{
 "cells": [
  {
   "cell_type": "markdown",
   "metadata": {},
   "source": [
    "### Day 23: LAN Party\n",
    "\n",
    "https://adventofcode.com/2024/day/23"
   ]
  },
  {
   "cell_type": "code",
   "execution_count": 1,
   "metadata": {},
   "outputs": [],
   "source": [
    "from pathlib import Path\n",
    "import sys\n",
    "\n",
    "sys.path.append(\"..\")\n",
    "\n",
    "from tools import get_input\n",
    "\n",
    "tst = [\n",
    "    line.split(\"-\")\n",
    "    for line in (Path().parent / \"test.txt\").read_text(encoding=\"utf-8\").splitlines()\n",
    "]\n",
    "inp = [line.split(\"-\") for line in get_input(23).splitlines()]"
   ]
  },
  {
   "cell_type": "code",
   "execution_count": 2,
   "metadata": {},
   "outputs": [
    {
     "data": {
      "text/plain": [
       "1370"
      ]
     },
     "execution_count": 2,
     "metadata": {},
     "output_type": "execute_result"
    }
   ],
   "source": [
    "from collections import defaultdict\n",
    "\n",
    "\n",
    "def solution_1(data: list[list[str]]) -> int:\n",
    "    graph = defaultdict(set)\n",
    "    for a, b in data:\n",
    "        graph[a].add(b)\n",
    "        graph[b].add(a)\n",
    "    sets = set()\n",
    "    for node_a in graph:\n",
    "        for node_b in graph[node_a]:\n",
    "            for node_c in graph[node_a]:\n",
    "                if node_b == node_c:\n",
    "                    continue\n",
    "                if node_c in graph[node_b]:\n",
    "                    sets.add(tuple(sorted([node_a, node_b, node_c])))\n",
    "\n",
    "    return len([s for s in sets if any(e.startswith(\"t\") for e in s)])\n",
    "\n",
    "\n",
    "assert solution_1(tst) == 7\n",
    "solution_1(inp)"
   ]
  },
  {
   "cell_type": "code",
   "execution_count": 3,
   "metadata": {},
   "outputs": [
    {
     "data": {
      "text/plain": [
       "'am,au,be,cm,fo,ha,hh,im,nt,os,qz,rr,so'"
      ]
     },
     "execution_count": 3,
     "metadata": {},
     "output_type": "execute_result"
    }
   ],
   "source": [
    "from networkx.algorithms.clique import find_cliques\n",
    "from networkx import Graph\n",
    "\n",
    "\n",
    "def solution_2(data: list[list[str]]) -> str:\n",
    "    graph = Graph()\n",
    "    for a, b in data:\n",
    "        graph.add_edge(a, b)\n",
    "\n",
    "    clique = sorted(list(find_cliques(graph)), reverse=True, key=len)[0]\n",
    "    return \",\".join(sorted(clique))\n",
    "\n",
    "\n",
    "assert solution_2(tst) == \"co,de,ka,ta\"\n",
    "solution_2(inp)  # am,au,be,cm,fo,ha,hh,im,nt,os,qz,rr,so"
   ]
  },
  {
   "cell_type": "code",
   "execution_count": null,
   "metadata": {},
   "outputs": [],
   "source": []
  }
 ],
 "metadata": {
  "kernelspec": {
   "display_name": "Python 3",
   "language": "python",
   "name": "python3"
  },
  "language_info": {
   "codemirror_mode": {
    "name": "ipython",
    "version": 3
   },
   "file_extension": ".py",
   "mimetype": "text/x-python",
   "name": "python",
   "nbconvert_exporter": "python",
   "pygments_lexer": "ipython3",
   "version": "3.12.6"
  }
 },
 "nbformat": 4,
 "nbformat_minor": 2
}
