{
 "cells": [
  {
   "cell_type": "markdown",
   "metadata": {},
   "source": [
    "### Day 21: Keypad Conundrum\n",
    "\n",
    "https://adventofcode.com/2024/day/21"
   ]
  },
  {
   "cell_type": "code",
   "execution_count": 1,
   "metadata": {},
   "outputs": [],
   "source": [
    "from pathlib import Path\n",
    "import sys\n",
    "\n",
    "sys.path.append(\"..\")\n",
    "\n",
    "from tools import get_input\n",
    "\n",
    "tst = (Path().parent / \"test.txt\").read_text(encoding=\"utf-8\").splitlines()\n",
    "inp = get_input(21).splitlines()"
   ]
  },
  {
   "cell_type": "code",
   "execution_count": 2,
   "metadata": {},
   "outputs": [],
   "source": [
    "numpad = { \n",
    "    \"7\": (0, 0), \"8\": (0, 1), \"9\": (0, 2),\n",
    "    \"4\": (1, 0), \"5\": (1, 1), \"6\": (1, 2),\n",
    "    \"1\": (2, 0), \"2\": (2, 1), \"3\": (2, 2),\n",
    "    \"X\": (3, 0), \"0\": (3, 1), \"A\": (3, 2),\n",
    "}\n",
    "\n",
    "arrowpad = {\n",
    "    \"X\": (0, 0), \"^\": (0, 1), \"A\": (0, 2),\n",
    "    \"<\": (1, 0), \"v\": (1, 1), \">\": (1, 2),\n",
    "}"
   ]
  },
  {
   "cell_type": "code",
   "execution_count": 3,
   "metadata": {},
   "outputs": [],
   "source": [
    "from functools import cache\n",
    "from itertools import pairwise\n",
    "\n",
    "\n",
    "@cache\n",
    "def move(state: str, target: str, first: bool) -> list[str]:\n",
    "    if state == target:\n",
    "        return [\"\"]\n",
    "\n",
    "    pad = numpad if first else arrowpad\n",
    "\n",
    "    r1, c1 = pad[state]\n",
    "    r2, c2 = pad[target]\n",
    "    dr, dc = r2 - r1, c2 - c1\n",
    "\n",
    "    row_moves = (\"v\" if dr >= 0 else \"^\") * abs(dr)\n",
    "    col_moves = (\">\" if dc >= 0 else \"<\") * abs(dc)\n",
    "\n",
    "    if pad[\"X\"] == (r1, c2):\n",
    "        return [row_moves + col_moves]\n",
    "    if pad[\"X\"] == (r2, c1):\n",
    "        return [col_moves + row_moves]\n",
    "    return [row_moves + col_moves, col_moves + row_moves]\n",
    "\n",
    "\n",
    "def solution_1(data: list[str], lvl: int) -> int:\n",
    "\n",
    "    @cache\n",
    "    def func(code, depth, first: bool = False):\n",
    "        if depth == 1:\n",
    "            return len(code)\n",
    "\n",
    "        return sum(\n",
    "            min(func(sp + \"A\", depth - 1) for sp in move(state, target, first))\n",
    "            for state, target in pairwise(\"A\" + code)\n",
    "        )\n",
    "\n",
    "    return sum(\n",
    "        func(code, lvl, True) * int(\"\".join(c for c in code if c in \"0123456789\"))\n",
    "        for code in data\n",
    "    )"
   ]
  },
  {
   "cell_type": "code",
   "execution_count": 4,
   "metadata": {},
   "outputs": [
    {
     "data": {
      "text/plain": [
       "157892"
      ]
     },
     "execution_count": 4,
     "metadata": {},
     "output_type": "execute_result"
    }
   ],
   "source": [
    "assert solution_1(tst, 4) == 126384\n",
    "solution_1(inp, 4)  # 157892"
   ]
  },
  {
   "cell_type": "code",
   "execution_count": 5,
   "metadata": {},
   "outputs": [
    {
     "data": {
      "text/plain": [
       "197015606336332"
      ]
     },
     "execution_count": 5,
     "metadata": {},
     "output_type": "execute_result"
    }
   ],
   "source": [
    "solution_1(inp, 27)  # 197015606336332"
   ]
  },
  {
   "cell_type": "code",
   "execution_count": null,
   "metadata": {},
   "outputs": [],
   "source": []
  }
 ],
 "metadata": {
  "kernelspec": {
   "display_name": "Python 3",
   "language": "python",
   "name": "python3"
  },
  "language_info": {
   "codemirror_mode": {
    "name": "ipython",
    "version": 3
   },
   "file_extension": ".py",
   "mimetype": "text/x-python",
   "name": "python",
   "nbconvert_exporter": "python",
   "pygments_lexer": "ipython3",
   "version": "3.12.6"
  }
 },
 "nbformat": 4,
 "nbformat_minor": 2
}
