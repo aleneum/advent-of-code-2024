{
 "cells": [
  {
   "cell_type": "code",
   "execution_count": 1,
   "metadata": {},
   "outputs": [],
   "source": [
    "from pathlib import Path\n",
    "import sys\n",
    "sys.path.append('..')\n",
    "\n",
    "from tools import get_input, profile\n",
    "\n",
    "test_raw = (Path().parent / \"test.txt\").read_text(encoding=\"utf-8\").splitlines()\n",
    "input_raw = get_input(7).splitlines()"
   ]
  },
  {
   "cell_type": "code",
   "execution_count": 2,
   "metadata": {},
   "outputs": [
    {
     "data": {
      "text/plain": [
       "1298300076754"
      ]
     },
     "execution_count": 2,
     "metadata": {},
     "output_type": "execute_result"
    }
   ],
   "source": [
    "def solution_01(data: list[str]) -> int:\n",
    "    res = 0\n",
    "    for line in data:\n",
    "        result, rest = line.split(\":\")\n",
    "        elems = [int(e) for e in rest.split()]\n",
    "        x = int(result)\n",
    "        def dfs(i: int, y: int) -> None:\n",
    "            if y > x:\n",
    "                return 0\n",
    "            if i == len(elems):\n",
    "                if y == x:\n",
    "                    return y\n",
    "                return 0\n",
    "            return dfs(i + 1, y + elems[i]) or dfs(i + 1, y * elems[i])\n",
    "        res += dfs(1, elems[0])\n",
    "    return res\n",
    "\n",
    "assert solution_01(test_raw) == 3749\n",
    "solution_01(input_raw)  # 1298300076754"
   ]
  },
  {
   "cell_type": "code",
   "execution_count": 3,
   "metadata": {},
   "outputs": [
    {
     "name": "stderr",
     "output_type": "stream",
     "text": [
      "3.719329833984375e-05\n"
     ]
    },
    {
     "name": "stderr",
     "output_type": "stream",
     "text": [
      "0.8714931011199951\n"
     ]
    },
    {
     "data": {
      "text/plain": [
       "248427118972289"
      ]
     },
     "execution_count": 3,
     "metadata": {},
     "output_type": "execute_result"
    }
   ],
   "source": [
    "@profile\n",
    "def solution_02(data: list[str]):\n",
    "    res = 0\n",
    "    for line in data:\n",
    "        result, rest = line.split(\":\")\n",
    "        elems = [int(e) for e in rest.split()]\n",
    "        x = int(result)\n",
    "        def dfs(i: int, y: int) -> None:\n",
    "            if y > x:\n",
    "                return 0\n",
    "            if i == len(elems):\n",
    "                if y == x:\n",
    "                    return y\n",
    "                return 0\n",
    "            return dfs(i + 1, int(f\"{y}{elems[i]}\")) or dfs(i + 1, y * elems[i]) or dfs(i + 1, y + elems[i])\n",
    "        res += dfs(1, elems[0])\n",
    "    return res\n",
    "\n",
    "assert solution_02(test_raw) == 11387\n",
    "solution_02(input_raw)  # 248427118972289"
   ]
  },
  {
   "cell_type": "code",
   "execution_count": 4,
   "metadata": {},
   "outputs": [
    {
     "data": {
      "text/plain": [
       "True"
      ]
     },
     "execution_count": 4,
     "metadata": {},
     "output_type": "execute_result"
    }
   ],
   "source": [
    "from math import log10\n",
    "\n",
    "def solution_02_variant(data: list[str]):\n",
    "    res = 0\n",
    "    for line in data:\n",
    "        result, rest = line.split(\":\")\n",
    "        elems = [int(e) for e in rest.split()]\n",
    "        x = int(result)\n",
    "        def dfs(i: int, y: int) -> None:\n",
    "            if y > x:\n",
    "                return 0\n",
    "            if i == len(elems):\n",
    "                if y == x:\n",
    "                    return y\n",
    "                return 0\n",
    "            return dfs(i + 1, y * 10**(int(log10(elems[i]))+1) + elems[i]) or dfs(i + 1, y * elems[i]) or dfs(i + 1, y + elems[i])\n",
    "        res += dfs(1, elems[0])\n",
    "    return res\n",
    "\n",
    "assert solution_02_variant(test_raw) == 11387\n",
    "solution_02_variant(input_raw) == 248427118972289"
   ]
  },
  {
   "cell_type": "code",
   "execution_count": 5,
   "metadata": {},
   "outputs": [
    {
     "name": "stderr",
     "output_type": "stream",
     "text": [
      "4.982948303222656e-05\n",
      "0.01996898651123047\n"
     ]
    },
    {
     "data": {
      "text/plain": [
       "248427118972289"
      ]
     },
     "execution_count": 5,
     "metadata": {},
     "output_type": "execute_result"
    }
   ],
   "source": [
    "import re\n",
    "\n",
    "nums_re = re.compile(r\"\\d+\")\n",
    "\n",
    "ops = [\n",
    "    lambda x, y: x / y if x % y == 0 else -1,\n",
    "    lambda x, y: x - y,\n",
    "    lambda x, y: (lambda sub, con: sub // con if sub and not sub % con else -1)(\n",
    "        x - y, 10 ** (int(log10(y)) + 1)\n",
    "    ),\n",
    "]\n",
    "\n",
    "\n",
    "def evals_to(nums, cur, i):\n",
    "    if i == 0:\n",
    "        return cur == nums[0]\n",
    "    if cur < 0:\n",
    "        return False\n",
    "    return any(evals_to(nums, op(cur, nums[i]), i - 1) for op in ops)\n",
    "\n",
    "@profile\n",
    "def solution_02_optimized(data: list[str]):\n",
    "    return sum(\n",
    "        nums[0]\n",
    "        for nums in ([int(num) for num in nums_re.findall(line)] for line in data)\n",
    "        if evals_to(nums[1:], nums[0], len(nums) - 2)\n",
    "    )\n",
    "\n",
    "\n",
    "assert solution_02_optimized(test_raw) == 11387\n",
    "solution_02_optimized(input_raw)  # 248427118972289"
   ]
  },
  {
   "cell_type": "code",
   "execution_count": null,
   "metadata": {},
   "outputs": [],
   "source": []
  }
 ],
 "metadata": {
  "kernelspec": {
   "display_name": "Python 3",
   "language": "python",
   "name": "python3"
  },
  "language_info": {
   "codemirror_mode": {
    "name": "ipython",
    "version": 3
   },
   "file_extension": ".py",
   "mimetype": "text/x-python",
   "name": "python",
   "nbconvert_exporter": "python",
   "pygments_lexer": "ipython3",
   "version": "3.12.6"
  }
 },
 "nbformat": 4,
 "nbformat_minor": 2
}
