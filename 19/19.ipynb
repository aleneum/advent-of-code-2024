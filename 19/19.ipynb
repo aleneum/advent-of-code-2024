{
 "cells": [
  {
   "cell_type": "markdown",
   "metadata": {},
   "source": [
    "### Day 19: Linen Layout\n",
    "\n",
    "https://adventofcode.com/2024/day/19"
   ]
  },
  {
   "cell_type": "code",
   "execution_count": 1,
   "metadata": {},
   "outputs": [],
   "source": [
    "from pathlib import Path\n",
    "import sys\n",
    "\n",
    "sys.path.append(\"..\")\n",
    "\n",
    "from tools import get_input\n",
    "\n",
    "def parse(txt: str) -> list[set[str], list[str]]:\n",
    "    t_s, p_s = txt.split(\"\\n\\n\")\n",
    "    towels = {t for t in t_s.split(\", \")}\n",
    "    pattern = [p for p in p_s.splitlines()]\n",
    "    return towels, pattern\n",
    "\n",
    "tst = parse((Path().parent / \"test.txt\").read_text(encoding=\"utf-8\"))\n",
    "inp = parse(get_input(19))"
   ]
  },
  {
   "cell_type": "code",
   "execution_count": 2,
   "metadata": {},
   "outputs": [
    {
     "data": {
      "text/plain": [
       "333"
      ]
     },
     "execution_count": 2,
     "metadata": {},
     "output_type": "execute_result"
    }
   ],
   "source": [
    "class TrieRoot:\n",
    "\n",
    "    def __init__(self):\n",
    "        self.root = TrieNode(\"\")\n",
    "\n",
    "    def add(self, word: str):\n",
    "        node = self.root\n",
    "        for letter in word:\n",
    "            if letter not in node.children:\n",
    "                node.children[letter] = TrieNode(letter)\n",
    "            node = node.children[letter]\n",
    "        node.is_leaf = True\n",
    "\n",
    "    def __repr__(self) -> str:\n",
    "        return str(self.root)\n",
    "\n",
    "\n",
    "class TrieNode:\n",
    "    def __init__(self, value: str):\n",
    "        self.is_leaf = False\n",
    "        self.value = value\n",
    "        self.children = {}\n",
    "\n",
    "    def __repr__(self) -> str:\n",
    "        return f\"{self.is_leaf}, {self.children}\"\n",
    "\n",
    "\n",
    "def solution_1(towels: set[str], pattern: list[str]) -> int:\n",
    "    tri = TrieRoot()\n",
    "    for towel in towels:\n",
    "        tri.add(towel)\n",
    "    \n",
    "    def track(pat: str, node: TrieNode) -> bool:\n",
    "        if not pat:\n",
    "            return True\n",
    "        res = False\n",
    "        if pat[0] in node.children:\n",
    "            res = track(pat[1:], node.children[pat[0]])\n",
    "        if not res and node.is_leaf and pat[0] in tri.root.children:\n",
    "            res = track(pat[1:], tri.root.children[pat[0]])\n",
    "        return res\n",
    "    \n",
    "    return sum(track(pat, tri.root) for pat in pattern)\n",
    "\n",
    "\n",
    "assert solution_1(*tst) == 6\n",
    "solution_1(*inp)"
   ]
  },
  {
   "cell_type": "code",
   "execution_count": 3,
   "metadata": {},
   "outputs": [
    {
     "data": {
      "text/plain": [
       "678536865274732"
      ]
     },
     "execution_count": 3,
     "metadata": {},
     "output_type": "execute_result"
    }
   ],
   "source": [
    "from functools import cache\n",
    "\n",
    "def solution_2(towels: set[str], pattern: list[str]) -> int:\n",
    "    tri = TrieRoot()\n",
    "    for towel in towels:\n",
    "        tri.add(towel)\n",
    "    \n",
    "    @cache\n",
    "    def track(pat: str, node: TrieNode) -> int:\n",
    "        if not pat:\n",
    "            return 1 if node.is_leaf else 0\n",
    "        res = 0\n",
    "        if pat[0] in node.children:\n",
    "            res += track(pat[1:], node.children[pat[0]])\n",
    "        if node.is_leaf and pat[0] in tri.root.children:\n",
    "            res += track(pat[1:], tri.root.children[pat[0]])\n",
    "        return res\n",
    "    \n",
    "    return sum(track(pat, tri.root) for pat in pattern)\n",
    "\n",
    "assert solution_2(*tst) == 16\n",
    "solution_2(*inp)  # 678536865274732"
   ]
  },
  {
   "cell_type": "code",
   "execution_count": null,
   "metadata": {},
   "outputs": [],
   "source": []
  }
 ],
 "metadata": {
  "kernelspec": {
   "display_name": "Python 3",
   "language": "python",
   "name": "python3"
  },
  "language_info": {
   "codemirror_mode": {
    "name": "ipython",
    "version": 3
   },
   "file_extension": ".py",
   "mimetype": "text/x-python",
   "name": "python",
   "nbconvert_exporter": "python",
   "pygments_lexer": "ipython3",
   "version": "3.12.6"
  }
 },
 "nbformat": 4,
 "nbformat_minor": 2
}
