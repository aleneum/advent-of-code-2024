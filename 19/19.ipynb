{
 "cells": [
  {
   "cell_type": "markdown",
   "metadata": {},
   "source": [
    "### Day 19: Linen Layout\n",
    "\n",
    "https://adventofcode.com/2024/day/19"
   ]
  },
  {
   "cell_type": "code",
   "execution_count": 1,
   "metadata": {},
   "outputs": [],
   "source": [
    "from pathlib import Path\n",
    "import sys\n",
    "\n",
    "sys.path.append(\"..\")\n",
    "\n",
    "from tools import get_input\n",
    "\n",
    "def parse(txt: str) -> list[set[str], list[str]]:\n",
    "    t_s, p_s = txt.split(\"\\n\\n\")\n",
    "    towels = {t for t in t_s.split(\", \")}\n",
    "    pattern = [p for p in p_s.splitlines()]\n",
    "    return towels, pattern\n",
    "\n",
    "tst = parse((Path().parent / \"test.txt\").read_text(encoding=\"utf-8\"))\n",
    "inp = parse(get_input(19))"
   ]
  },
  {
   "cell_type": "code",
   "execution_count": 2,
   "metadata": {},
   "outputs": [],
   "source": [
    "from collections import defaultdict\n",
    "from functools import reduce\n",
    "\n",
    "\n",
    "class TrieRoot:\n",
    "\n",
    "    def __init__(self):\n",
    "        self.root = TrieNode()\n",
    "\n",
    "    def add(self, word: str):\n",
    "        node = reduce(lambda x, y: x.children[y], word, self.root)\n",
    "        node.is_leaf = True\n",
    "\n",
    "\n",
    "class TrieNode:\n",
    "    def __init__(self):\n",
    "        self.is_leaf = False\n",
    "        self.children = defaultdict(TrieNode)"
   ]
  },
  {
   "cell_type": "code",
   "execution_count": 3,
   "metadata": {},
   "outputs": [
    {
     "data": {
      "text/plain": [
       "333"
      ]
     },
     "execution_count": 3,
     "metadata": {},
     "output_type": "execute_result"
    }
   ],
   "source": [
    "from functools import cache\n",
    "\n",
    "def solution_1(towels: set[str], pattern: list[str]) -> int:\n",
    "    tri = TrieRoot()\n",
    "    for towel in towels:\n",
    "        tri.add(towel)\n",
    "\n",
    "    @cache\n",
    "    def track(pat: str, node: TrieNode) -> bool:\n",
    "        if not pat:\n",
    "            return node.is_leaf\n",
    "        return (pat[0] in node.children and track(pat[1:], node.children[pat[0]])) or (\n",
    "            node.is_leaf\n",
    "            and pat[0] in tri.root.children\n",
    "            and track(pat[1:], tri.root.children[pat[0]])\n",
    "        )\n",
    "\n",
    "    return sum(track(pat, tri.root) for pat in pattern)\n",
    "\n",
    "\n",
    "assert solution_1(*tst) == 6\n",
    "solution_1(*inp)  # 333"
   ]
  },
  {
   "cell_type": "code",
   "execution_count": 4,
   "metadata": {},
   "outputs": [
    {
     "data": {
      "text/plain": [
       "678536865274732"
      ]
     },
     "execution_count": 4,
     "metadata": {},
     "output_type": "execute_result"
    }
   ],
   "source": [
    "from functools import cache\n",
    "\n",
    "\n",
    "def solution_2(towels: set[str], pattern: list[str]) -> int:\n",
    "    tri = TrieRoot()\n",
    "    for towel in towels:\n",
    "        tri.add(towel)\n",
    "\n",
    "    @cache\n",
    "    def track(pat: str, node: TrieNode) -> int:\n",
    "        if not pat:\n",
    "            return 1 if node.is_leaf else 0\n",
    "        res = 0\n",
    "        if pat[0] in node.children:\n",
    "            res += track(pat[1:], node.children[pat[0]])\n",
    "        if node.is_leaf and pat[0] in tri.root.children:\n",
    "            res += track(pat[1:], tri.root.children[pat[0]])\n",
    "        return res\n",
    "\n",
    "    return sum(track(pat, tri.root) for pat in pattern)\n",
    "\n",
    "\n",
    "assert solution_2(*tst) == 16\n",
    "solution_2(*inp)  # 678536865274732"
   ]
  },
  {
   "cell_type": "code",
   "execution_count": null,
   "metadata": {},
   "outputs": [],
   "source": []
  }
 ],
 "metadata": {
  "kernelspec": {
   "display_name": "Python 3",
   "language": "python",
   "name": "python3"
  },
  "language_info": {
   "codemirror_mode": {
    "name": "ipython",
    "version": 3
   },
   "file_extension": ".py",
   "mimetype": "text/x-python",
   "name": "python",
   "nbconvert_exporter": "python",
   "pygments_lexer": "ipython3",
   "version": "3.12.6"
  }
 },
 "nbformat": 4,
 "nbformat_minor": 2
}
