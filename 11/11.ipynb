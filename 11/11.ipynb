{
 "cells": [
  {
   "cell_type": "markdown",
   "metadata": {},
   "source": [
    "### Day 11: Plutonian Pebbles\n",
    "\n",
    "https://adventofcode.com/2024/day/11"
   ]
  },
  {
   "cell_type": "code",
   "execution_count": 1,
   "metadata": {},
   "outputs": [],
   "source": [
    "from pathlib import Path\n",
    "import sys\n",
    "\n",
    "sys.path.append(\"..\")\n",
    "\n",
    "from tools import get_input\n",
    "\n",
    "tst = sum(([int(c) for c in line.split()] for line in (Path().parent / \"test.txt\").read_text(encoding=\"utf-8\").splitlines()), [])\n",
    "inp = sum(([int(c) for c in line.split()] for line in get_input(11).splitlines()), [])\n"
   ]
  },
  {
   "cell_type": "code",
   "execution_count": 2,
   "metadata": {},
   "outputs": [
    {
     "data": {
      "text/plain": [
       "194782"
      ]
     },
     "execution_count": 2,
     "metadata": {},
     "output_type": "execute_result"
    }
   ],
   "source": [
    "from functools import cache\n",
    "from math import log10\n",
    "\n",
    "def solution_1(data: list[int], n) -> int:\n",
    "\n",
    "    @cache\n",
    "    def dfs(i, k):\n",
    "        if k == n:\n",
    "            return 1\n",
    "        if i == 0:\n",
    "            return dfs(1, k + 1)\n",
    "        if (d := int(log10(i))+1) % 2 == 0:\n",
    "            a, b = divmod(i, (10 ** (d//2)))\n",
    "            return dfs(a, k + 1) + dfs(b, k + 1)\n",
    "        return dfs(i * 2024, k + 1)\n",
    "\n",
    "    return sum(dfs(i, 0) for i in data)\n",
    "\n",
    "assert solution_1(tst, 25) == 55312\n",
    "solution_1(inp, 25)  # 194782"
   ]
  },
  {
   "cell_type": "code",
   "execution_count": 3,
   "metadata": {},
   "outputs": [
    {
     "data": {
      "text/plain": [
       "233007586663131"
      ]
     },
     "execution_count": 3,
     "metadata": {},
     "output_type": "execute_result"
    }
   ],
   "source": [
    "solution_1(inp, 75)  # 233007586663131"
   ]
  },
  {
   "cell_type": "code",
   "execution_count": null,
   "metadata": {},
   "outputs": [],
   "source": []
  }
 ],
 "metadata": {
  "kernelspec": {
   "display_name": "Python 3",
   "language": "python",
   "name": "python3"
  },
  "language_info": {
   "codemirror_mode": {
    "name": "ipython",
    "version": 3
   },
   "file_extension": ".py",
   "mimetype": "text/x-python",
   "name": "python",
   "nbconvert_exporter": "python",
   "pygments_lexer": "ipython3",
   "version": "3.12.6"
  }
 },
 "nbformat": 4,
 "nbformat_minor": 2
}
