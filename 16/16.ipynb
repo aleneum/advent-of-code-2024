{
 "cells": [
  {
   "cell_type": "markdown",
   "metadata": {},
   "source": [
    "### Day 16: Reindeer Maze\n",
    "\n",
    "https://adventofcode.com/2024/day/16"
   ]
  },
  {
   "cell_type": "code",
   "execution_count": 1,
   "metadata": {},
   "outputs": [],
   "source": [
    "from pathlib import Path\n",
    "import sys\n",
    "\n",
    "sys.path.append(\"..\")\n",
    "\n",
    "from tools import get_input\n",
    "\n",
    "\n",
    "tst = [[c for c in line] for line in (Path().parent / \"test.txt\").read_text(encoding=\"utf-8\").splitlines()]\n",
    "tst2 = [[c for c in line] for line in (Path().parent / \"test2.txt\").read_text(encoding=\"utf-8\").splitlines()]\n",
    "inp = [[c for c in line] for line in get_input(16).splitlines()]\n"
   ]
  },
  {
   "cell_type": "code",
   "execution_count": 2,
   "metadata": {},
   "outputs": [
    {
     "data": {
      "text/plain": [
       "94436"
      ]
     },
     "execution_count": 2,
     "metadata": {},
     "output_type": "execute_result"
    }
   ],
   "source": [
    "from heapq import heappop, heappush\n",
    "from math import inf\n",
    "\n",
    "orientations = [\">\", \"v\", \"<\", \"^\"]\n",
    "dirs = {\">\": (0, 1), \"v\": (1, 0), \"<\": (0, -1), \"^\": (-1, 0)}\n",
    "\n",
    "\n",
    "def find_start(data: list[str]) -> tuple[int, int]:\n",
    "    for i, line in enumerate(data):\n",
    "        for j, char in enumerate(line):\n",
    "            if char == \"S\":\n",
    "                return i, j\n",
    "\n",
    "\n",
    "def solution_1(data: list[str]) -> int:\n",
    "    i, j = find_start(data)\n",
    "    heap = [(0, i, j, \">\", {(i, j)})]\n",
    "    res_score = inf\n",
    "    res = set()\n",
    "    costs = [\n",
    "        [{\">\": inf, \"v\": inf, \"<\": inf, \"^\": inf} for _ in range(len(data[0]))]\n",
    "        for _ in range(len(data))\n",
    "    ]\n",
    "    while heap:\n",
    "        c, i, j, d, path = heappop(heap)\n",
    "        if c > res_score:\n",
    "            continue\n",
    "        ni, nj = i + dirs[d][0], j + dirs[d][1]\n",
    "        if data[ni][nj] != \"#\" and costs[ni][nj][d] >= c + 1:\n",
    "            if data[ni][nj] == \"E\":\n",
    "                res = res | path | {(ni, nj)}\n",
    "                res_score = c + 1\n",
    "                continue\n",
    "            costs[ni][nj][d] = c + 1\n",
    "            heappush(heap, (c + 1, ni, nj, d, path | {(ni, nj)}))\n",
    "        for orient in [\n",
    "            orientations[(orientations.index(d) + 1) % 4],\n",
    "            orientations[(orientations.index(d) - 1) % 4],\n",
    "        ]:\n",
    "            ni, nj = i + dirs[orient][0], j + dirs[orient][1]\n",
    "            if data[ni][nj] != \"#\" and costs[ni][nj][orient] >= c + 1001:\n",
    "                costs[ni][nj][orient] = c + 1001\n",
    "                heappush(heap, (c + 1001, ni, nj, orient, path | {(ni, nj)}))\n",
    "    return res_score, res\n",
    "\n",
    "assert solution_1(tst)[0] == 7036\n",
    "assert solution_1(tst2)[0] == 11048\n",
    "solution_1(inp)[0]  # 94436"
   ]
  },
  {
   "cell_type": "code",
   "execution_count": 3,
   "metadata": {},
   "outputs": [
    {
     "data": {
      "text/plain": [
       "481"
      ]
     },
     "execution_count": 3,
     "metadata": {},
     "output_type": "execute_result"
    }
   ],
   "source": [
    "assert len(solution_1(tst)[1]) == 45\n",
    "assert len(solution_1(tst2)[1]) == 64\n",
    "len(solution_1(inp)[1])  # 481"
   ]
  },
  {
   "cell_type": "code",
   "execution_count": null,
   "metadata": {},
   "outputs": [],
   "source": []
  }
 ],
 "metadata": {
  "kernelspec": {
   "display_name": "Python 3",
   "language": "python",
   "name": "python3"
  },
  "language_info": {
   "codemirror_mode": {
    "name": "ipython",
    "version": 3
   },
   "file_extension": ".py",
   "mimetype": "text/x-python",
   "name": "python",
   "nbconvert_exporter": "python",
   "pygments_lexer": "ipython3",
   "version": "3.12.6"
  }
 },
 "nbformat": 4,
 "nbformat_minor": 2
}
