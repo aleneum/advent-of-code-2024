{
 "cells": [
  {
   "cell_type": "code",
   "execution_count": null,
   "metadata": {},
   "outputs": [],
   "source": [
    "from pathlib import Path\n",
    "import sys\n",
    "sys.path.append('..')\n",
    "\n",
    "from tools import get_input\n",
    "\n",
    "test_raw = (Path().parent / \"test.txt\").read_text(encoding=\"utf-8\").splitlines()\n",
    "input_raw = get_input(5).splitlines()"
   ]
  },
  {
   "cell_type": "code",
   "execution_count": null,
   "metadata": {},
   "outputs": [],
   "source": [
    "from collections import defaultdict\n",
    "\n",
    "\n",
    "def solution_1(data: list[str]) -> int:\n",
    "    before = defaultdict(list)\n",
    "    res = 0\n",
    "    for i, line in enumerate(data):\n",
    "        if line == \"\":\n",
    "            break\n",
    "        x, y = line.split(\"|\")\n",
    "        before[x].append(y)\n",
    "    for line in data[i + 1 :]:\n",
    "        printed = set()\n",
    "        pages = line.split(\",\")\n",
    "        for x in pages:\n",
    "            if any(y in printed for y in before[x]):\n",
    "                break\n",
    "            printed.add(x)\n",
    "        else:\n",
    "            res += int(pages[len(pages) // 2])\n",
    "    return res\n",
    "\n",
    "\n",
    "assert solution_1(test_raw) == 143\n",
    "solution_1(input_raw)  # 5166"
   ]
  },
  {
   "cell_type": "code",
   "execution_count": null,
   "metadata": {},
   "outputs": [],
   "source": [
    "from functools import cmp_to_key\n",
    "\n",
    "\n",
    "def solution_2(data: list[str]) -> int:\n",
    "    before = defaultdict(list)\n",
    "    res = 0\n",
    "    for i, line in enumerate(data):\n",
    "        if line == \"\":\n",
    "            break\n",
    "        x, y = line.split(\"|\")\n",
    "        before[x].append(y)\n",
    "    for line in data[i + 1 :]:\n",
    "        printed = set()\n",
    "        pages = line.split(\",\")\n",
    "        for x in pages:\n",
    "            if any(y in printed for y in before[x]):\n",
    "                res += int(\n",
    "                    sorted(\n",
    "                        pages,\n",
    "                        key=cmp_to_key(\n",
    "                            lambda x, y: (\n",
    "                                -1 if y in before[x] else 1 if x in before[y] else 0\n",
    "                            )\n",
    "                        ),\n",
    "                    )[len(pages) // 2]\n",
    "                )\n",
    "\n",
    "                break\n",
    "            printed.add(x)\n",
    "    return res\n",
    "\n",
    "\n",
    "assert solution_2(test_raw) == 123\n",
    "solution_2(input_raw)  # 4679"
   ]
  },
  {
   "cell_type": "code",
   "execution_count": null,
   "metadata": {},
   "outputs": [],
   "source": []
  }
 ],
 "metadata": {
  "kernelspec": {
   "display_name": "Python 3",
   "language": "python",
   "name": "python3"
  },
  "language_info": {
   "codemirror_mode": {
    "name": "ipython",
    "version": 3
   },
   "file_extension": ".py",
   "mimetype": "text/x-python",
   "name": "python",
   "nbconvert_exporter": "python",
   "pygments_lexer": "ipython3",
   "version": "3.12.6"
  }
 },
 "nbformat": 4,
 "nbformat_minor": 2
}
