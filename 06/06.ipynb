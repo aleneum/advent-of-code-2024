{
 "cells": [
  {
   "cell_type": "code",
   "execution_count": 1,
   "metadata": {},
   "outputs": [],
   "source": [
    "from pathlib import Path\n",
    "import sys\n",
    "sys.path.append('..')\n",
    "\n",
    "from tools import get_input, profile\n",
    "\n",
    "test_raw = [[field for field in line ] for line in (Path().parent / \"test.txt\").read_text(encoding=\"utf-8\").splitlines()]\n",
    "input_raw = [[field for field in line ] for line in get_input(6).splitlines()]"
   ]
  },
  {
   "cell_type": "code",
   "execution_count": 2,
   "metadata": {},
   "outputs": [
    {
     "data": {
      "text/plain": [
       "4890"
      ]
     },
     "execution_count": 2,
     "metadata": {},
     "output_type": "execute_result"
    }
   ],
   "source": [
    "def find_start(data: list[list[str]]) -> tuple[str, int, int]:\n",
    "    for i, line in enumerate(data):\n",
    "        for j, field in enumerate(line):\n",
    "            if field in \"^v<>\":\n",
    "                return field, i, j\n",
    "\n",
    "def solution_1(data: list[list[str]], start: tuple[str, int, int]) -> int:\n",
    "    dirs = {\"^\": (-1, 0), \"v\": (1, 0), \"<\": (0, -1), \">\": (0, 1)}\n",
    "    symbol = [\"^\", \">\", \"v\", \"<\"]\n",
    "    field, i, j = start\n",
    "    mapped = [line.copy() for line in data]\n",
    "    dir = dirs[field]\n",
    "    res = 1\n",
    "    while 0 <= i + dir[0] < len(mapped) and 0 <= j + dir[1] < len(mapped[0]):\n",
    "        if mapped[i + dir[0]][j + dir[1]] == \"#\":\n",
    "            field = symbol[(symbol.index(field) + 1) % 4]\n",
    "            dir = dirs[field]\n",
    "            mapped[i][j] += field\n",
    "            continue\n",
    "        i, j = i + dir[0], j + dir[1]\n",
    "        if mapped[i][j] == \".\":\n",
    "            mapped[i][j] = field\n",
    "            res += 1\n",
    "        elif field in mapped[i][j]:\n",
    "            return -1, mapped\n",
    "        else:\n",
    "            mapped[i][j] += field\n",
    "    return res, mapped\n",
    "\n",
    "res, mapped = solution_1(test_raw, find_start(test_raw))\n",
    "assert res == 41\n",
    "res, big_map = solution_1(input_raw, find_start(input_raw))\n",
    "res # 4890"
   ]
  },
  {
   "cell_type": "code",
   "execution_count": 3,
   "metadata": {},
   "outputs": [
    {
     "data": {
      "text/plain": [
       "[['.', '.', '.', '.', '#', '.', '.', '.', '.', '.'],\n",
       " ['.', '.', '.', '.', '^>', '>', '>', '>', '>v', '#'],\n",
       " ['.', '.', '.', '.', '^', '.', '.', '.', 'v', '.'],\n",
       " ['.', '.', '#', '.', '^', '.', '.', '.', 'v', '.'],\n",
       " ['.', '.', '^>', '>', '^>', '>', '>v', '#', 'v', '.'],\n",
       " ['.', '.', '^', '.', '^', '.', 'v', '.', 'v', '.'],\n",
       " ['.', '#', '<^', '<', '^<', '<', '<v', '<', 'v<', '.'],\n",
       " ['.', '^>', '>', '>', '>', '>', 'v>', '>v', '#', '.'],\n",
       " ['#', '<^', '<', '<', '<', '<', 'v<', 'v', '.', '.'],\n",
       " ['.', '.', '.', '.', '.', '.', '#', 'v', '.', '.']]"
      ]
     },
     "execution_count": 3,
     "metadata": {},
     "output_type": "execute_result"
    }
   ],
   "source": [
    "mapped"
   ]
  },
  {
   "cell_type": "code",
   "execution_count": 4,
   "metadata": {},
   "outputs": [
    {
     "name": "stderr",
     "output_type": "stream",
     "text": [
      "0.0007860660552978516\n",
      "12.101609945297241\n"
     ]
    },
    {
     "data": {
      "text/plain": [
       "1995"
      ]
     },
     "execution_count": 4,
     "metadata": {},
     "output_type": "execute_result"
    }
   ],
   "source": [
    "@profile\n",
    "def solution_2(data: list[list[str]]):\n",
    "    cnt = 0\n",
    "    start = find_start(data)\n",
    "    for i in range(len(data)):\n",
    "        for j in range(len(data[0])):\n",
    "            if data[i][j] == \".\":\n",
    "                data[i][j] = \"#\"\n",
    "                if solution_1(data, start)[0] == -1:\n",
    "                    cnt += 1\n",
    "                data[i][j] = \".\"\n",
    "    return cnt\n",
    "assert solution_2(test_raw) == 6\n",
    "solution_2(input_raw)  # 1995"
   ]
  },
  {
   "cell_type": "code",
   "execution_count": 5,
   "metadata": {},
   "outputs": [
    {
     "name": "stderr",
     "output_type": "stream",
     "text": [
      "0.00032591819763183594\n",
      "2.6343352794647217\n"
     ]
    }
   ],
   "source": [
    "@profile\n",
    "def solution_2_optimized(data: list[list[str]], mapped: list[list[str]]):\n",
    "    res = 0\n",
    "    test = set()\n",
    "    start = find_start(data)\n",
    "    test = {\n",
    "        (i, j)\n",
    "        for i in range(len(mapped))\n",
    "        for j in range(len(mapped[0]))\n",
    "        if mapped[i][j] not in [\"#\", \".\"]\n",
    "    }\n",
    "    test.remove((start[1], start[2]))\n",
    "    for x, y in test:\n",
    "        data[x][y] = \"#\"\n",
    "        if solution_1(data, start)[0] == -1:\n",
    "            res += 1\n",
    "        data[x][y] = \".\"\n",
    "    return res\n",
    "\n",
    "\n",
    "assert solution_2_optimized(test_raw, mapped) == 6\n",
    "assert solution_2_optimized(input_raw, big_map) == 1995"
   ]
  },
  {
   "cell_type": "code",
   "execution_count": null,
   "metadata": {},
   "outputs": [],
   "source": []
  }
 ],
 "metadata": {
  "kernelspec": {
   "display_name": "Python 3",
   "language": "python",
   "name": "python3"
  },
  "language_info": {
   "codemirror_mode": {
    "name": "ipython",
    "version": 3
   },
   "file_extension": ".py",
   "mimetype": "text/x-python",
   "name": "python",
   "nbconvert_exporter": "python",
   "pygments_lexer": "ipython3",
   "version": "3.12.6"
  }
 },
 "nbformat": 4,
 "nbformat_minor": 2
}
