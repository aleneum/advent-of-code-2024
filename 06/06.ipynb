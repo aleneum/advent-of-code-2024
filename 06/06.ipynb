{
 "cells": [
  {
   "cell_type": "code",
   "execution_count": 145,
   "metadata": {},
   "outputs": [],
   "source": [
    "from pathlib import Path\n",
    "import sys\n",
    "sys.path.append('..')\n",
    "\n",
    "from tools import get_input"
   ]
  },
  {
   "cell_type": "code",
   "execution_count": null,
   "metadata": {},
   "outputs": [
    {
     "data": {
      "text/plain": [
       "4890"
      ]
     },
     "execution_count": 148,
     "metadata": {},
     "output_type": "execute_result"
    }
   ],
   "source": [
    "def solution_1(data: list[list[str]]):\n",
    "    res = 0\n",
    "    dirs = {\"^\": (-1, 0), \"v\": (1, 0), \"<\": (0, -1), \">\": (0, 1)}\n",
    "    symbol = [\"^\", \">\", \"v\", \"<\"]\n",
    "    mapped = [line.copy() for line in data]\n",
    "    for i, line in enumerate(mapped):\n",
    "        for j, field in enumerate(mapped):\n",
    "            if field in dirs:\n",
    "                dir = dirs[field]\n",
    "                res += 1\n",
    "                while 0 <= i + dir[0] < len(mapped) and 0 <= j + dir[1] < len(line):\n",
    "                    if mapped[i + dir[0]][j + dir[1]] == \"#\":\n",
    "                        field = symbol[(symbol.index(field) + 1) % 4]\n",
    "                        dir = dirs[field]\n",
    "                        continue\n",
    "                    i, j = i + dir[0], j + dir[1]\n",
    "                    if mapped[i][j] == \".\":\n",
    "                        mapped[i][j] = field\n",
    "                        res += 1\n",
    "                    elif field in mapped[i][j]:\n",
    "                        return -1\n",
    "                    else:\n",
    "                        mapped[i][j] += field\n",
    "                return res\n",
    "    return res, mapped\n",
    "test_raw = [[field for field in line ] for line in (Path().parent / \"test.txt\").read_text(encoding=\"utf-8\").splitlines()]\n",
    "input_raw = [[field for field in line ] for line in get_input(6).splitlines()]\n",
    "test_copy = [line.copy() for line in test_raw]\n",
    "input_copy = [line.copy() for line in input_raw]\n",
    "\n",
    "assert solution_1(test_copy) == 41\n",
    "solution_1(input_copy)  # 4890"
   ]
  },
  {
   "cell_type": "code",
   "execution_count": 149,
   "metadata": {},
   "outputs": [
    {
     "data": {
      "text/plain": [
       "[['.', '.', '.', '.', '#', '.', '.', '.', '.', '.'],\n",
       " ['.', '.', '.', '.', '^', '>', '>', '>', '>', '#'],\n",
       " ['.', '.', '.', '.', '^', '.', '.', '.', 'v', '.'],\n",
       " ['.', '.', '#', '.', '^', '.', '.', '.', 'v', '.'],\n",
       " ['.', '.', '^', '>', '^>', '>', '>', '#', 'v', '.'],\n",
       " ['.', '.', '^', '.', '^', '.', 'v', '.', 'v', '.'],\n",
       " ['.', '#', '<', '<', '^<', '<', '<v', '<', 'v', '.'],\n",
       " ['.', '^', '>', '>', '>', '>', 'v>', '>', '#', '.'],\n",
       " ['#', '<', '<', '<', '<', '<', 'v', 'v', '.', '.'],\n",
       " ['.', '.', '.', '.', '.', '.', '#', 'v', '.', '.']]"
      ]
     },
     "execution_count": 149,
     "metadata": {},
     "output_type": "execute_result"
    }
   ],
   "source": [
    "test_copy"
   ]
  },
  {
   "cell_type": "code",
   "execution_count": null,
   "metadata": {},
   "outputs": [
    {
     "ename": "AssertionError",
     "evalue": "",
     "output_type": "error",
     "traceback": [
      "\u001b[0;31m---------------------------------------------------------------------------\u001b[0m",
      "\u001b[0;31mAssertionError\u001b[0m                            Traceback (most recent call last)",
      "Cell \u001b[0;32mIn[151], line 11\u001b[0m\n\u001b[1;32m      9\u001b[0m                 data[i][j] \u001b[38;5;241m=\u001b[39m \u001b[38;5;124m\"\u001b[39m\u001b[38;5;124m.\u001b[39m\u001b[38;5;124m\"\u001b[39m\n\u001b[1;32m     10\u001b[0m     \u001b[38;5;28;01mreturn\u001b[39;00m cnt\n\u001b[0;32m---> 11\u001b[0m \u001b[38;5;28;01massert\u001b[39;00m solution_2(test_raw) \u001b[38;5;241m==\u001b[39m \u001b[38;5;241m6\u001b[39m\n\u001b[1;32m     12\u001b[0m solution_2(input_raw)\n",
      "\u001b[0;31mAssertionError\u001b[0m: "
     ]
    }
   ],
   "source": [
    "def solution_2(data: list[list[str]]):\n",
    "    cnt = 0\n",
    "    for i in range(len(data)):\n",
    "        for j in range(len(data[0])):\n",
    "            if data[i][j] == \".\":\n",
    "                data[i][j] = \"#\"\n",
    "                if solution_1(data) == -1:\n",
    "                    cnt += 1\n",
    "                data[i][j] = \".\"\n",
    "    return cnt\n",
    "assert solution_2(test_raw) == 6\n",
    "solution_2(input_raw)"
   ]
  },
  {
   "cell_type": "code",
   "execution_count": null,
   "metadata": {},
   "outputs": [],
   "source": []
  }
 ],
 "metadata": {
  "kernelspec": {
   "display_name": "Python 3",
   "language": "python",
   "name": "python3"
  },
  "language_info": {
   "codemirror_mode": {
    "name": "ipython",
    "version": 3
   },
   "file_extension": ".py",
   "mimetype": "text/x-python",
   "name": "python",
   "nbconvert_exporter": "python",
   "pygments_lexer": "ipython3",
   "version": "3.12.6"
  }
 },
 "nbformat": 4,
 "nbformat_minor": 2
}
