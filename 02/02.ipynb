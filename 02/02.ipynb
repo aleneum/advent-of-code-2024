{
 "cells": [
  {
   "cell_type": "code",
   "execution_count": null,
   "metadata": {},
   "outputs": [],
   "source": [
    "from pathlib import Path\n",
    "import sys\n",
    "sys.path.append('..')\n",
    "\n",
    "from tools import get_input\n",
    "\n",
    "test_raw = (Path().parent / \"test.txt\").read_text(encoding=\"utf-8\").splitlines()\n",
    "test_data = [[int(i) for i in line.split()] for line in test_raw]\n",
    "input_data = [[int(i) for i in line.split()] for line in get_input(2).splitlines()]"
   ]
  },
  {
   "cell_type": "code",
   "execution_count": null,
   "metadata": {},
   "outputs": [
    {
     "data": {
      "text/plain": [
       "299"
      ]
     },
     "execution_count": 83,
     "metadata": {},
     "output_type": "execute_result"
    }
   ],
   "source": [
    "# Part 1\n",
    "\n",
    "def check_line(line: list[int]) -> int:\n",
    "    a, b = line[:2]\n",
    "    if a == b:\n",
    "        return 0\n",
    "    inc = b > a\n",
    "    for b in line[1:]:\n",
    "        if (b > a) != inc or not (1 <= abs(b - a) <= 3):\n",
    "            return False\n",
    "        a = b\n",
    "    return True\n",
    "\n",
    "def solution_1(data: list[list[int]]) -> int:\n",
    "    return sum(check_line(line) for line in data)\n",
    "\n",
    "assert solution_1(test_data) == 2\n",
    "solution_1(input_data)  # 299"
   ]
  },
  {
   "cell_type": "code",
   "execution_count": 112,
   "metadata": {},
   "outputs": [
    {
     "data": {
      "text/plain": [
       "364"
      ]
     },
     "execution_count": 112,
     "metadata": {},
     "output_type": "execute_result"
    }
   ],
   "source": [
    "def solution_2(data: list[list[int]]) -> int:\n",
    "    return sum(\n",
    "        check_line(line)\n",
    "        or any(check_line(line[:i] + line[i + 1 :]) for i in range(len(line)))\n",
    "        for line in data\n",
    "    )\n",
    "\n",
    "assert solution_2(test_data) == 4\n",
    "solution_2(input_data)  # 364"
   ]
  },
  {
   "cell_type": "code",
   "execution_count": 119,
   "metadata": {},
   "outputs": [],
   "source": [
    "def optimized_check_2(line: list[int], full=True) -> int:\n",
    "    for i in range(len(line) - 1):\n",
    "        if not 1 <= line[i] - line[i + 1] <= 3:\n",
    "            return full and (\n",
    "                optimized_check_2(line[i - 1 : i] + line[i + 1 :], False)\n",
    "                or optimized_check_2(line[i : i + 1] + line[i + 2 :], False)\n",
    "            )\n",
    "    return True\n",
    "\n",
    "\n",
    "def optimized_solution_2(data: list[str]) -> int:\n",
    "    return sum(\n",
    "        optimized_check_2(line) or optimized_check_2(line[::-1]) for line in data\n",
    "    )\n",
    "\n",
    "\n",
    "assert optimized_solution_2(test_data) == 4\n",
    "assert optimized_solution_2(input_data) == 364"
   ]
  },
  {
   "cell_type": "code",
   "execution_count": null,
   "metadata": {},
   "outputs": [],
   "source": []
  }
 ],
 "metadata": {
  "kernelspec": {
   "display_name": "Python 3",
   "language": "python",
   "name": "python3"
  },
  "language_info": {
   "codemirror_mode": {
    "name": "ipython",
    "version": 3
   },
   "file_extension": ".py",
   "mimetype": "text/x-python",
   "name": "python",
   "nbconvert_exporter": "python",
   "pygments_lexer": "ipython3",
   "version": "3.12.6"
  }
 },
 "nbformat": 4,
 "nbformat_minor": 2
}
