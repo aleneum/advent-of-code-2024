{
 "cells": [
  {
   "cell_type": "markdown",
   "metadata": {},
   "source": [
    "### Day 3: Mull It Over\n",
    "\n",
    "https://adventofcode.com/2024/day/3"
   ]
  },
  {
   "cell_type": "code",
   "execution_count": null,
   "metadata": {},
   "outputs": [],
   "source": [
    "from pathlib import Path\n",
    "import sys\n",
    "import re\n",
    "\n",
    "sys.path.append(\"..\")\n",
    "\n",
    "from tools import get_input\n",
    "\n",
    "test_raw = (Path().parent / \"test.txt\").read_text(encoding=\"utf-8\")\n",
    "input_raw = get_input(3)"
   ]
  },
  {
   "cell_type": "code",
   "execution_count": null,
   "metadata": {},
   "outputs": [
    {
     "data": {
      "text/plain": [
       "173517243"
      ]
     },
     "execution_count": 2,
     "metadata": {},
     "output_type": "execute_result"
    }
   ],
   "source": [
    "# Part 1\n",
    "\n",
    "pattern = re.compile(r\"mul\\(\\d+,\\d+\\)\")\n",
    "\n",
    "def solution_1(data: str) -> int:\n",
    "    res = 0\n",
    "    for match in pattern.finditer(data):\n",
    "        a, b = match.group().split(\",\")\n",
    "        res += int(a[4:]) * int(b[:-1])\n",
    "    return res\n",
    "\n",
    "assert solution_1(test_raw) == 161\n",
    "solution_1(input_raw)  # 173517243"
   ]
  },
  {
   "cell_type": "code",
   "execution_count": null,
   "metadata": {},
   "outputs": [
    {
     "data": {
      "text/plain": [
       "100450138"
      ]
     },
     "execution_count": 3,
     "metadata": {},
     "output_type": "execute_result"
    }
   ],
   "source": [
    "# Part 2\n",
    "\n",
    "test_raw = (Path().parent / \"test2.txt\").read_text(encoding=\"utf-8\")\n",
    "\n",
    "def solution_2(data: str) -> int:\n",
    "    res =  0\n",
    "    segs = data.split(\"do()\")\n",
    "    for seg in segs:\n",
    "        res += solution_1(seg.split(\"don't()\")[0])\n",
    "    return res\n",
    "\n",
    "assert solution_2(test_raw) == 48\n",
    "solution_2(input_raw)  # 100450138"
   ]
  },
  {
   "cell_type": "code",
   "execution_count": null,
   "metadata": {},
   "outputs": [],
   "source": []
  }
 ],
 "metadata": {
  "kernelspec": {
   "display_name": "Python 3",
   "language": "python",
   "name": "python3"
  },
  "language_info": {
   "codemirror_mode": {
    "name": "ipython",
    "version": 3
   },
   "file_extension": ".py",
   "mimetype": "text/x-python",
   "name": "python",
   "nbconvert_exporter": "python",
   "pygments_lexer": "ipython3",
   "version": "3.12.6"
  }
 },
 "nbformat": 4,
 "nbformat_minor": 2
}
