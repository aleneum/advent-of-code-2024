{
 "cells": [
  {
   "cell_type": "markdown",
   "metadata": {},
   "source": [
    "Day 17: Chronospatial Computer\n",
    "\n",
    "https://adventofcode.com/2024/day/17"
   ]
  },
  {
   "cell_type": "code",
   "execution_count": 1,
   "metadata": {},
   "outputs": [],
   "source": [
    "from pathlib import Path\n",
    "import sys\n",
    "from itertools import batched\n",
    "\n",
    "sys.path.append(\"..\")\n",
    "\n",
    "from tools import get_input\n",
    "\n",
    "\n",
    "def parse(text: str) -> tuple[list[int], list[tuple[int, int]]]:\n",
    "    regs_s, ops_s = text.split(\"\\n\\n\")\n",
    "    regs = [int(line.split(\":\")[1]) for line in regs_s.splitlines()]\n",
    "    ops = list(batched([int(i) for i in ops_s.split(\":\")[1].split(\",\")], 2))\n",
    "    return regs, ops\n",
    "\n",
    "\n",
    "tst = parse((Path().parent / \"test.txt\").read_text(encoding=\"utf-8\"))\n",
    "inp = parse(get_input(17))"
   ]
  },
  {
   "cell_type": "code",
   "execution_count": 2,
   "metadata": {},
   "outputs": [],
   "source": [
    "def solution_1(regs: list[int], ops: list[tuple[int, int]]) -> int:\n",
    "    regs = regs.copy()\n",
    "    p = [0]\n",
    "    output = []\n",
    "\n",
    "    def adv(op: int):  # 0\n",
    "        regs[0] //= 2 ** (op if op < 4 else regs[op - 4])\n",
    "\n",
    "    def bxl(op: int):  # 1\n",
    "        regs[1] ^= op\n",
    "\n",
    "    def bst(op: int):  # 2\n",
    "        regs[1] = (op if op < 4 else regs[op - 4]) % 8\n",
    "\n",
    "    def jnz(op: int):  # 3\n",
    "        if regs[0] != 0:\n",
    "            p[0] = (op // 2) - 1\n",
    "\n",
    "    def bxc(_: int):  # 4\n",
    "        regs[1] ^= regs[2]\n",
    "\n",
    "    def out(op: int):  # 5\n",
    "        output.append((op if op < 4 else regs[op - 4]) % 8)\n",
    "\n",
    "    def bdv(op: int):  # 6\n",
    "        regs[1] = regs[0] // 2 ** (op if op < 4 else regs[op - 4])\n",
    "\n",
    "    def cdv(op: int):  # 7\n",
    "        regs[2] = regs[0] // 2 ** (op if op < 4 else regs[op - 4])\n",
    "\n",
    "    program = {0: adv, 1: bxl, 2: bst, 3: jnz, 4: bxc, 5: out, 6: bdv, 7: cdv}\n",
    "    while p[0] < len(ops):\n",
    "        program[ops[p[0]][0]](ops[p[0]][1])\n",
    "        p[0] += 1\n",
    "    return output, regs"
   ]
  },
  {
   "cell_type": "code",
   "execution_count": 3,
   "metadata": {},
   "outputs": [],
   "source": [
    "# tests from description\n",
    "\n",
    "assert solution_1([0, 0, 9], [(2, 6)])[1][1] == 1\n",
    "assert solution_1([10, 0, 0], [(5, 0), (5, 1), (5, 4)])[0] == [0, 1, 2]\n",
    "assert solution_1([2024, 0, 0], [(0, 1), (5, 4), (3, 0)]) == (\n",
    "    [4, 2, 5, 6, 7, 7, 7, 7, 3, 1, 0],\n",
    "    [0, 0, 0],\n",
    ")\n",
    "assert solution_1([0, 29, 0], [(1, 7)])[1][1] == 26\n",
    "assert solution_1([0, 2024, 43690], [(4, 0)])[1][1] == 44354"
   ]
  },
  {
   "cell_type": "code",
   "execution_count": 4,
   "metadata": {},
   "outputs": [
    {
     "data": {
      "text/plain": [
       "'7,3,5,7,5,7,4,3,0'"
      ]
     },
     "execution_count": 4,
     "metadata": {},
     "output_type": "execute_result"
    }
   ],
   "source": [
    "assert solution_1(*tst)[0] == [4, 6, 3, 5, 6, 3, 5, 2, 1, 0]\n",
    "\",\".join(str(i) for i in solution_1(*inp)[0])  # '7,3,5,7,5,7,4,3,0'"
   ]
  },
  {
   "cell_type": "code",
   "execution_count": 5,
   "metadata": {},
   "outputs": [
    {
     "data": {
      "text/plain": [
       "105734774294938"
      ]
     },
     "execution_count": 5,
     "metadata": {},
     "output_type": "execute_result"
    }
   ],
   "source": [
    "from heapq import heappush, heappop\n",
    "\n",
    "\n",
    "# both programs comsume THE RIGHTMOST THREE BITS\n",
    "# in register A each cycle until A = 0\n",
    "# input can be retrieved by checking which A at time t produces which output\n",
    "# start with A = [0, 7] and find the last opcode\n",
    "# use all A in [0, 7] where output[0] != ops[-1]\n",
    "# to find A* = A << 3 | [0, 7] where output[0] == ops[-2]\n",
    "def solution_2(regs: list[int], ops: list[tuple[int, int]]) -> int:\n",
    "    comp = sum(([a, b] for a, b in ops), [])\n",
    "    heap = [(-len(comp) + 1, 0)]\n",
    "    while heap:\n",
    "        p, x = heappop(heap)\n",
    "        for i in range(8):\n",
    "            nx = (x << 3) | i\n",
    "            regs[0] = nx\n",
    "            if solution_1(regs, ops)[0][0] == comp[-p]:\n",
    "                if p == 0:\n",
    "                    return nx\n",
    "                else:\n",
    "                    heappush(heap, (p + 1, nx))\n",
    "    return -1\n",
    "\n",
    "\n",
    "tst2 = parse((Path().parent / \"test2.txt\").read_text(encoding=\"utf-8\"))\n",
    "assert solution_2(*tst2) == 117440\n",
    "solution_2(*inp)  # 105734774294938"
   ]
  },
  {
   "cell_type": "code",
   "execution_count": null,
   "metadata": {},
   "outputs": [],
   "source": []
  }
 ],
 "metadata": {
  "kernelspec": {
   "display_name": "Python 3",
   "language": "python",
   "name": "python3"
  },
  "language_info": {
   "codemirror_mode": {
    "name": "ipython",
    "version": 3
   },
   "file_extension": ".py",
   "mimetype": "text/x-python",
   "name": "python",
   "nbconvert_exporter": "python",
   "pygments_lexer": "ipython3",
   "version": "3.12.6"
  }
 },
 "nbformat": 4,
 "nbformat_minor": 2
}
