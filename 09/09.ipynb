{
 "cells": [
  {
   "cell_type": "markdown",
   "metadata": {},
   "source": [
    "### Day 9: Disk Fragmenter\n",
    "\n",
    "https://adventofcode.com/2024/day/9"
   ]
  },
  {
   "cell_type": "code",
   "execution_count": 1,
   "metadata": {},
   "outputs": [],
   "source": [
    "from pathlib import Path\n",
    "import sys\n",
    "\n",
    "sys.path.append(\"..\")\n",
    "\n",
    "from tools import get_input, profile\n",
    "\n",
    "tst: list[list[int]] = [\n",
    "    [i // 2 if i % 2 == 0 else -1, int(d)]\n",
    "    for i, d in enumerate((Path().parent / \"test.txt\").read_text(encoding=\"utf-8\"))\n",
    "]\n",
    "inp: list[list[int]] = [\n",
    "    [i // 2 if i % 2 == 0 else -1, int(d)]\n",
    "    for i, d in enumerate(get_input(9))\n",
    "    if d != \"\\n\"\n",
    "]"
   ]
  },
  {
   "cell_type": "code",
   "execution_count": 2,
   "metadata": {},
   "outputs": [
    {
     "data": {
      "text/plain": [
       "6262891638328"
      ]
     },
     "execution_count": 2,
     "metadata": {},
     "output_type": "execute_result"
    }
   ],
   "source": [
    "def checksum(data: list[int]) -> int:\n",
    "    return sum(i * d for i, d in enumerate(data) if d != -1)\n",
    "\n",
    "\n",
    "def solution_1(data: list[list[int]]) -> int:\n",
    "    data = [item.copy() for item in data]\n",
    "    l, r = 0, len(data) - 1\n",
    "    new = []\n",
    "    while l <= r:\n",
    "        if data[l][0] != -1:\n",
    "            new.extend([data[l][0]] * data[l][1])\n",
    "            l += 1\n",
    "        elif data[r][0] == -1:\n",
    "            r -= 1\n",
    "        elif data[l][1] >= data[r][1]:\n",
    "            new.extend([data[r][0]] * data[r][1])\n",
    "            data[l][1] -= data[r][1]\n",
    "            r -= 2\n",
    "        else:\n",
    "            new.extend([data[r][0]] * data[l][1])\n",
    "            data[r][1] -= data[l][1]\n",
    "            l += 1\n",
    "    return checksum(new)\n",
    "\n",
    "\n",
    "assert solution_1(tst) == 1928\n",
    "solution_1(inp)  # 6262891638328"
   ]
  },
  {
   "cell_type": "code",
   "execution_count": 3,
   "metadata": {},
   "outputs": [
    {
     "name": "stderr",
     "output_type": "stream",
     "text": [
      "2.5272369384765625e-05\n",
      "7.592972993850708\n"
     ]
    },
    {
     "data": {
      "text/plain": [
       "6287317016845"
      ]
     },
     "execution_count": 3,
     "metadata": {},
     "output_type": "execute_result"
    }
   ],
   "source": [
    "@profile\n",
    "def solution_2(data: list[list[int]]) -> int:\n",
    "    data = [item.copy() for item in data]\n",
    "    r = len(data) - 1\n",
    "    while r > 0:\n",
    "        if data[r][0] != -1:\n",
    "            i = 1\n",
    "            while i < r:\n",
    "                # lazy defragmentation of empty space\n",
    "                while data[i][0] == -1 and data[i + 1][0] == -1:\n",
    "                    data[i][1] += data[i + 1][1]\n",
    "                    data.pop(i + 1)\n",
    "                    r -= 1\n",
    "                if data[i][0] == -1 and data[i][1] >= data[r][1]:\n",
    "                    data[i][0] = data[r][0]\n",
    "                    data[r][0] = -1\n",
    "                    if data[i][1] > data[r][1]:\n",
    "                        data.insert(i + 1, [-1, data[i][1] - data[r][1]])\n",
    "                        data[i][1] = data[r+1][1]\n",
    "                    break\n",
    "                i += 1\n",
    "        r -= 1\n",
    "    return checksum(sum([[i] * d for i, d in data], []))\n",
    "\n",
    "\n",
    "assert solution_2(tst) == 2858\n",
    "solution_2(inp)  # 6287317016845"
   ]
  },
  {
   "cell_type": "code",
   "execution_count": null,
   "metadata": {},
   "outputs": [],
   "source": []
  }
 ],
 "metadata": {
  "kernelspec": {
   "display_name": "Python 3",
   "language": "python",
   "name": "python3"
  },
  "language_info": {
   "codemirror_mode": {
    "name": "ipython",
    "version": 3
   },
   "file_extension": ".py",
   "mimetype": "text/x-python",
   "name": "python",
   "nbconvert_exporter": "python",
   "pygments_lexer": "ipython3",
   "version": "3.12.6"
  }
 },
 "nbformat": 4,
 "nbformat_minor": 2
}
