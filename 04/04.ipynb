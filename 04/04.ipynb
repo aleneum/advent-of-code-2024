{
 "cells": [
  {
   "cell_type": "code",
   "execution_count": 2,
   "metadata": {},
   "outputs": [],
   "source": [
    "from pathlib import Path\n",
    "import sys\n",
    "sys.path.append('..')\n",
    "\n",
    "from tools import get_input\n",
    "\n",
    "test_raw = (Path().parent / \"test.txt\").read_text(encoding=\"utf-8\").splitlines()\n",
    "input_raw = get_input(4).splitlines()"
   ]
  },
  {
   "cell_type": "code",
   "execution_count": null,
   "metadata": {},
   "outputs": [
    {
     "data": {
      "text/plain": [
       "2517"
      ]
     },
     "execution_count": 14,
     "metadata": {},
     "output_type": "execute_result"
    }
   ],
   "source": [
    "# Part 1\n",
    "\n",
    "DIR = [(-1, 0), (-1, -1), (0, -1), (1, -1), (1, 0), (1, 1), (0, 1), (-1, 1)]\n",
    "CHECK = [\"M\", \"A\", \"S\"]\n",
    "\n",
    "def solution_1(data: list[str]) -> int:\n",
    "    res = 0\n",
    "    m, n = len(data), len(data[0])\n",
    "\n",
    "    for i in range(m):\n",
    "        for j in range(n):\n",
    "            if data[i][j] == \"X\":\n",
    "                for dx, dy in DIR:\n",
    "                    tx, ty = i, j\n",
    "                    for idx in range(3):\n",
    "                        tx += dx\n",
    "                        ty += dy\n",
    "                        if not(0 <= tx < m and 0 <= ty < n and data[tx][ty] == CHECK[idx]):\n",
    "                            break\n",
    "                    else:\n",
    "                        res += 1\n",
    "    return res\n",
    "\n",
    "assert solution_1(test_raw) == 18\n",
    "solution_1(input_raw)  # 2517"
   ]
  },
  {
   "cell_type": "code",
   "execution_count": null,
   "metadata": {},
   "outputs": [
    {
     "data": {
      "text/plain": [
       "1976"
      ]
     },
     "execution_count": 19,
     "metadata": {},
     "output_type": "execute_result"
    }
   ],
   "source": [
    "DIR = [((-1, 0), (0, -1)), ((-1, -1), (+1, -1))]\n",
    "\n",
    "\n",
    "def solution_2(data: list[str]) -> int:\n",
    "    res = 0\n",
    "    m, n = len(data), len(data[0])\n",
    "\n",
    "    for i in range(1, m - 1):\n",
    "        for j in range(1, n - 1):\n",
    "            if data[i][j] == \"A\":\n",
    "                if (\n",
    "                    (data[i - 1][j] == \"S\" and data[i + 1][j] == \"M\")\n",
    "                    or (data[i - 1][j] == \"M\" and data[i + 1][j] == \"S\")\n",
    "                ) and (\n",
    "                    (data[i][j - 1] == \"S\" and data[i][j + 1] == \"M\")\n",
    "                    or (data[i][j - 1] == \"M\" and data[i][j + 1] == \"S\")\n",
    "                ):\n",
    "                    res += 1\n",
    "                # elif (\n",
    "                #     (data[i - 1][j - 1] == \"S\" and data[i + 1][j + 1] == \"M\")\n",
    "                #     or (data[i - 1][j - 1] == \"M\" and data[i + 1][j + 1] == \"S\")\n",
    "                # ) and (\n",
    "                #     (data[i + 1][j - 1] == \"S\" and data[i - 1][j + 1] == \"M\")\n",
    "                #     or (data[i + 1][j - 1] == \"M\" and data[i - 1][j + 1] == \"S\")\n",
    "                # ):\n",
    "                #     res += 1\n",
    "    return res\n",
    "\n",
    "\n",
    "assert solution_2(test_raw) == 9\n",
    "solution_2(input_raw)  # "
   ]
  },
  {
   "cell_type": "code",
   "execution_count": null,
   "metadata": {},
   "outputs": [],
   "source": [
    "# 1976 too high"
   ]
  }
 ],
 "metadata": {
  "kernelspec": {
   "display_name": "Python 3",
   "language": "python",
   "name": "python3"
  },
  "language_info": {
   "codemirror_mode": {
    "name": "ipython",
    "version": 3
   },
   "file_extension": ".py",
   "mimetype": "text/x-python",
   "name": "python",
   "nbconvert_exporter": "python",
   "pygments_lexer": "ipython3",
   "version": "3.12.6"
  }
 },
 "nbformat": 4,
 "nbformat_minor": 2
}
