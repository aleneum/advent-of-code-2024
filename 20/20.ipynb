{
 "cells": [
  {
   "cell_type": "markdown",
   "metadata": {},
   "source": [
    "### Day 20: Race Condition\n",
    "\n",
    "https://adventofcode.com/2024/day/20"
   ]
  },
  {
   "cell_type": "code",
   "execution_count": 1,
   "metadata": {},
   "outputs": [],
   "source": [
    "from pathlib import Path\n",
    "import sys\n",
    "\n",
    "sys.path.append(\"..\")\n",
    "\n",
    "from tools import get_input, profile\n",
    "\n",
    "tst = [[c for c in line] for line in (Path().parent / \"test.txt\").read_text(encoding=\"utf-8\").splitlines()]\n",
    "inp = [[c for c in line] for line in get_input(20).splitlines()]"
   ]
  },
  {
   "cell_type": "code",
   "execution_count": 2,
   "metadata": {},
   "outputs": [
    {
     "data": {
      "text/plain": [
       "1417"
      ]
     },
     "execution_count": 2,
     "metadata": {},
     "output_type": "execute_result"
    }
   ],
   "source": [
    "from collections import defaultdict\n",
    "\n",
    "\n",
    "def find_start(data: list[list[str]]) -> tuple[int, int]:\n",
    "    for x in range(len(data)):\n",
    "        for y in range(len(data[0])):\n",
    "            if data[x][y] == \"S\":\n",
    "                return x, y\n",
    "        \n",
    "def mark_track(data: list[list[str]], s: tuple[int, int]) -> list[tuple[int, int]]:\n",
    "    path = [s]\n",
    "    data[s[0]][s[1]] = 0\n",
    "    while True:\n",
    "        x, y = path[-1]\n",
    "        for dx, dy in ((1, 0), (-1, 0), (0, 1), (0, -1)):\n",
    "            nx = x + dx\n",
    "            ny = y + dy\n",
    "            if 0 <= nx < len(data) and 0 <= ny < len(data[0]):\n",
    "                if data[nx][ny] == \"E\":\n",
    "                    data[nx][ny] = len(path)\n",
    "                    path.append((nx, ny))\n",
    "                    return path\n",
    "                if data[nx][ny] == \".\":\n",
    "                    data[nx][ny] = len(path)\n",
    "                    path.append((nx, ny))\n",
    "                    break\n",
    "        \n",
    "def solution_1(data: list[list[str]]) -> dict[int, int]:\n",
    "    track = [line.copy() for line in data]\n",
    "    s = find_start(data)\n",
    "    path = mark_track(track, s)\n",
    "    shortcuts = defaultdict(int)\n",
    "    for i, (x, y) in enumerate(path):\n",
    "        for dx, dy in ((1, 0), (-1, 0), (0, 1), (0, -1)):\n",
    "            nx = x + dx\n",
    "            ny = y + dy\n",
    "            if 0 <= nx < len(track) and 0 <= ny < len(track[0]) and track[nx][ny] == \"#\":\n",
    "                nnx = nx + dx\n",
    "                nny = ny + dy\n",
    "                if 0 <= nnx < len(track) and 0 <= nny < len(track[0]) and track[nnx][nny] != \"#\":\n",
    "                    d = track[nnx][nny] - i - 2\n",
    "                    if d > 0:\n",
    "                        shortcuts[d] += 1\n",
    "    return shortcuts\n",
    "\n",
    "assert sum(v for k, v in solution_1(tst).items() if k >= 8) == 14\n",
    "sum(v for k, v in solution_1(inp).items() if k >= 100)  # 1417\n"
   ]
  },
  {
   "cell_type": "code",
   "execution_count": 3,
   "metadata": {},
   "outputs": [
    {
     "data": {
      "text/plain": [
       "1014683"
      ]
     },
     "execution_count": 3,
     "metadata": {},
     "output_type": "execute_result"
    }
   ],
   "source": [
    "def solution_2(data: list[list[str]], limit: int, cheat: int) -> int:\n",
    "    track = [line.copy() for line in data]\n",
    "    s = find_start(data)\n",
    "    path = mark_track(track, s)[::-1]\n",
    "    res = 0\n",
    "    while path:\n",
    "        x, y = path.pop()\n",
    "        for xx, yy in path:\n",
    "            d = abs(x - xx) + abs(y - yy)\n",
    "            if d <= cheat and track[xx][yy] - track[x][y] - d >= limit:\n",
    "                res += 1\n",
    "    return res\n",
    "\n",
    "assert solution_2(tst, 8, 2) == 14\n",
    "assert solution_2(tst, 76, 20) == 3\n",
    "assert solution_2(tst, 70, 20) == 41\n",
    "solution_2(inp, 100, 20)  # 1014683"
   ]
  },
  {
   "cell_type": "code",
   "execution_count": null,
   "metadata": {},
   "outputs": [],
   "source": [
    "def solution_2_loop(data: list[list[str]], limit: int, cheat: int) -> int:\n",
    "    track = [line.copy() for line in data]\n",
    "    s = find_start(data)\n",
    "    path = mark_track(track, s)[::-1]\n",
    "    res = 0\n",
    "    while path:\n",
    "        x, y = path.pop()\n",
    "        for i in range(-cheat, cheat + 1):\n",
    "            for j in range(-cheat + abs(i), cheat + 1 - abs(i)):\n",
    "                if (\n",
    "                    0 <= x + i < len(track)\n",
    "                    and 0 <= y + j < len(track[0])\n",
    "                    and track[x + i][y + j] != \"#\"\n",
    "                    and track[x + i][y + j] - track[x][y] - abs(i) - abs(j) >= limit\n",
    "                ):\n",
    "                    res += 1\n",
    "    return res\n",
    "\n",
    "assert solution_2_loop(tst, 70, 20) == 41\n",
    "solution_2_loop(inp, 100, 20)  # 1014683"
   ]
  },
  {
   "cell_type": "code",
   "execution_count": null,
   "metadata": {},
   "outputs": [],
   "source": []
  }
 ],
 "metadata": {
  "kernelspec": {
   "display_name": "Python 3",
   "language": "python",
   "name": "python3"
  },
  "language_info": {
   "codemirror_mode": {
    "name": "ipython",
    "version": 3
   },
   "file_extension": ".py",
   "mimetype": "text/x-python",
   "name": "python",
   "nbconvert_exporter": "python",
   "pygments_lexer": "ipython3",
   "version": "3.12.6"
  }
 },
 "nbformat": 4,
 "nbformat_minor": 2
}
