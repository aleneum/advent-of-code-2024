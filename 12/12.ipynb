{
 "cells": [
  {
   "cell_type": "markdown",
   "metadata": {},
   "source": [
    "### Day 12: Garden Groups\n",
    "\n",
    "https://adventofcode.com/2024/day/12"
   ]
  },
  {
   "cell_type": "code",
   "execution_count": 1,
   "metadata": {},
   "outputs": [],
   "source": [
    "from pathlib import Path\n",
    "import sys\n",
    "\n",
    "sys.path.append(\"..\")\n",
    "\n",
    "from tools import get_input\n",
    "\n",
    "tst = [[c for c in line] for line in (Path().parent / \"test.txt\").read_text(encoding=\"utf-8\").splitlines()]\n",
    "inp = [[c for c in line] for line in get_input(12).splitlines()]"
   ]
  },
  {
   "cell_type": "code",
   "execution_count": 2,
   "metadata": {},
   "outputs": [
    {
     "data": {
      "text/plain": [
       "1377008"
      ]
     },
     "execution_count": 2,
     "metadata": {},
     "output_type": "execute_result"
    }
   ],
   "source": [
    "def solution_1(data: list[list[str]]) -> int:\n",
    "    res = 0\n",
    "    n = len(data[0])\n",
    "    plot = [[\" \"] * (n + 2)]\n",
    "    for line in data:\n",
    "        plot.append([\" \"] + line + [\" \"])\n",
    "    plot.append([\" \"] * (n + 2))\n",
    "    for i in range(1, len(plot) - 1):\n",
    "        for j in range(1, len(plot[i]) - 1):\n",
    "            if plot[i][j].isupper():\n",
    "                tmp = [plot[i][j], 0, 0]\n",
    "                def dfs(x, y):\n",
    "                    plot[x][y] = tmp[0].lower()\n",
    "                    tmp[1] += 1\n",
    "                    for dx, dy in [(0, 1), (1, 0), (0, -1), (-1, 0)]:\n",
    "                        nx, ny = x + dx, y + dy\n",
    "                        if plot[nx][ny] == tmp[0]:\n",
    "                            dfs(nx, ny)\n",
    "                        elif plot[nx][ny] != tmp[0].lower():\n",
    "                            tmp[2] += 1\n",
    "                dfs(i, j)\n",
    "                res += tmp[1] * tmp[2]\n",
    "    return res\n",
    "assert solution_1(tst) == 1930\n",
    "solution_1(inp)  # 1377008"
   ]
  },
  {
   "cell_type": "code",
   "execution_count": 3,
   "metadata": {},
   "outputs": [
    {
     "data": {
      "text/plain": [
       "815788"
      ]
     },
     "execution_count": 3,
     "metadata": {},
     "output_type": "execute_result"
    }
   ],
   "source": [
    "def solution_2(data: list[list[str]]) -> int:\n",
    "    res = 0\n",
    "    n = len(data[0])\n",
    "    plot = [[\" \"] * (n + 2)]\n",
    "    for line in data:\n",
    "        plot.append([\" \"] + line + [\" \"])\n",
    "    plot.append([\" \"] * (n + 2))\n",
    "    for i in range(1, len(plot) - 1):\n",
    "        for j in range(1, len(plot[i]) - 1):\n",
    "            if plot[i][j].isupper():\n",
    "                tmp = [plot[i][j], 0, []]\n",
    "                def dfs(x, y):\n",
    "                    plot[x][y] = tmp[0].lower()\n",
    "                    tmp[1] += 1\n",
    "                    for dx, dy in [(0, 1), (1, 0), (0, -1), (-1, 0)]:\n",
    "                        nx, ny = x + dx, y + dy\n",
    "                        if plot[nx][ny] == tmp[0]:\n",
    "                            dfs(nx, ny)\n",
    "                        elif plot[nx][ny] != tmp[0].lower():\n",
    "                            tmp[2].append((\"-\" if dx != 0 else \"|\", nx - 0.9 * dx, ny - 0.9 * dy))\n",
    "                dfs(i, j)\n",
    "                sides = 0\n",
    "                cx = cy = -2\n",
    "                for _, x, y in sorted((t for t in tmp[2] if t[0] == \"-\"), key=lambda t: (t[1], t[2])):\n",
    "                    if cx != x or cy != y - 1:\n",
    "                        sides += 1\n",
    "                        cx = x\n",
    "                    cy = y\n",
    "                cx = cy = -2\n",
    "                for _, x, y in sorted((t for t in tmp[2] if t[0] == \"|\"), key=lambda t: (t[2], t[1])):\n",
    "                    if cy != y or cx != x - 1:\n",
    "                        sides += 1\n",
    "                        cy = y\n",
    "                    cx = x\n",
    "                res += (tmp[1] * sides)\n",
    "    return res\n",
    "\n",
    "\n",
    "tst1 = [[c for c in line] for line in (Path().parent / \"test1.txt\").read_text(encoding=\"utf-8\").splitlines()]\n",
    "tst2 = [[c for c in line] for line in (Path().parent / \"test2.txt\").read_text(encoding=\"utf-8\").splitlines()]\n",
    "tst3 = [[c for c in line] for line in (Path().parent / \"test3.txt\").read_text(encoding=\"utf-8\").splitlines()]\n",
    "tst4 = [[c for c in line] for line in (Path().parent / \"test4.txt\").read_text(encoding=\"utf-8\").splitlines()]\n",
    "\n",
    "assert solution_2(tst1) == 80\n",
    "assert solution_2(tst2) == 436\n",
    "assert solution_2(tst3) == 236\n",
    "assert solution_2(tst4) == 368\n",
    "assert solution_2(tst) == 1206\n",
    "\n",
    "solution_2(inp)  # 815788"
   ]
  },
  {
   "cell_type": "code",
   "execution_count": null,
   "metadata": {},
   "outputs": [],
   "source": []
  }
 ],
 "metadata": {
  "kernelspec": {
   "display_name": "Python 3",
   "language": "python",
   "name": "python3"
  },
  "language_info": {
   "codemirror_mode": {
    "name": "ipython",
    "version": 3
   },
   "file_extension": ".py",
   "mimetype": "text/x-python",
   "name": "python",
   "nbconvert_exporter": "python",
   "pygments_lexer": "ipython3",
   "version": "3.12.6"
  }
 },
 "nbformat": 4,
 "nbformat_minor": 2
}
