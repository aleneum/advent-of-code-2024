{
 "cells": [
  {
   "cell_type": "code",
   "execution_count": 1,
   "metadata": {},
   "outputs": [],
   "source": [
    "import sys\n",
    "sys.path.append('..')\n",
    "\n",
    "from tools import parse_input\n",
    "\n",
    "t1, t2 = [3, 4, 2, 1, 3, 3], [3, 4, 5, 3, 9, 3]\n",
    "i1, i2 = parse_input(1, r\"(\\d+)\", r\"\\s+\", r\"(\\d+)\")"
   ]
  },
  {
   "cell_type": "code",
   "execution_count": null,
   "metadata": {},
   "outputs": [
    {
     "data": {
      "text/plain": [
       "1506483"
      ]
     },
     "execution_count": 2,
     "metadata": {},
     "output_type": "execute_result"
    }
   ],
   "source": [
    "# Part 1\n",
    "\n",
    "def solution_1(left: list[int], right: list[int]) -> int:\n",
    "    return sum(abs(e1 - e2) for e1, e2 in zip(sorted(left), sorted(right)))\n",
    "\n",
    "assert solution_1(t1, t2) == 11\n",
    "solution_1(i1, i2)  # 1506483"
   ]
  },
  {
   "cell_type": "code",
   "execution_count": null,
   "metadata": {},
   "outputs": [
    {
     "data": {
      "text/plain": [
       "23126924"
      ]
     },
     "execution_count": 3,
     "metadata": {},
     "output_type": "execute_result"
    }
   ],
   "source": [
    "# Part 2\n",
    "\n",
    "from collections import Counter\n",
    "\n",
    "def solution_2(left: list[int], right: list[int]) -> int:\n",
    "    return sum(Counter(right)[e] * e for e in left)\n",
    "\n",
    "assert solution_2(t1, t2) == 31\n",
    "solution_2(i1, i2)  # 23126924"
   ]
  },
  {
   "cell_type": "code",
   "execution_count": null,
   "metadata": {},
   "outputs": [],
   "source": []
  }
 ],
 "metadata": {
  "kernelspec": {
   "display_name": "Python 3",
   "language": "python",
   "name": "python3"
  },
  "language_info": {
   "codemirror_mode": {
    "name": "ipython",
    "version": 3
   },
   "file_extension": ".py",
   "mimetype": "text/x-python",
   "name": "python",
   "nbconvert_exporter": "python",
   "pygments_lexer": "ipython3",
   "version": "3.12.6"
  }
 },
 "nbformat": 4,
 "nbformat_minor": 2
}
