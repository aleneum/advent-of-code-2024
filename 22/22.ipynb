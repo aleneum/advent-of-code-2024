{
 "cells": [
  {
   "cell_type": "markdown",
   "metadata": {},
   "source": [
    "### Day 22: Monkey Market\n",
    "\n",
    "https://adventofcode.com/2024/day/22"
   ]
  },
  {
   "cell_type": "code",
   "execution_count": 1,
   "metadata": {},
   "outputs": [],
   "source": [
    "from pathlib import Path\n",
    "import sys\n",
    "\n",
    "sys.path.append(\"..\")\n",
    "\n",
    "from tools import get_input\n",
    "\n",
    "tst = [int(line) for line in (Path().parent / \"test.txt\").read_text(encoding=\"utf-8\").splitlines()]\n",
    "tst2 = [int(line) for line in (Path().parent / \"test2.txt\").read_text(encoding=\"utf-8\").splitlines()]\n",
    "inp = [int(line) for line in get_input(22).splitlines()]"
   ]
  },
  {
   "cell_type": "code",
   "execution_count": 2,
   "metadata": {},
   "outputs": [],
   "source": [
    "def secret_number(s0: int) -> int:\n",
    "    s1 = ((s0 * 64) ^ s0) % 16777216\n",
    "    s2 = ((s1 // 32) ^ s1) % 16777216\n",
    "    return ((s2 * 2048) ^ s2) % 16777216\n",
    "\n",
    "def solution_1(initials: list[int]) -> int:\n",
    "    res = 0\n",
    "    for initial in initials:\n",
    "        tmp = initial\n",
    "        for _ in range(2000):\n",
    "            tmp = secret_number(tmp)\n",
    "        res += tmp\n",
    "    return res"
   ]
  },
  {
   "cell_type": "code",
   "execution_count": 3,
   "metadata": {},
   "outputs": [
    {
     "name": "stdout",
     "output_type": "stream",
     "text": [
      "13764677935\n"
     ]
    }
   ],
   "source": [
    "assert solution_1(tst) == 37327623\n",
    "print(solution_1(inp))  # 13764677935"
   ]
  },
  {
   "cell_type": "code",
   "execution_count": 4,
   "metadata": {},
   "outputs": [],
   "source": [
    "from itertools import pairwise\n",
    "\n",
    "def get_seqs(initials: list[int]) -> tuple[list[int], list[int]]:\n",
    "    res = []\n",
    "    for initial in initials:\n",
    "        prices = [initial]\n",
    "        tmp = initial\n",
    "        for _ in range(2000):\n",
    "            tmp = secret_number(tmp)\n",
    "            prices.append(tmp % 10)\n",
    "        res.append((prices, [b - a for a, b in pairwise(prices)]))\n",
    "\n",
    "    return res"
   ]
  },
  {
   "cell_type": "code",
   "execution_count": 5,
   "metadata": {},
   "outputs": [],
   "source": [
    "from collections import defaultdict\n",
    "\n",
    "def solution_2(initials: list[int]) -> int:\n",
    "    ts = get_seqs(initials)\n",
    "    res = defaultdict(int)\n",
    "\n",
    "    for ps, cs in ts:\n",
    "        seen = set()\n",
    "        for i in range(4, len(cs)):\n",
    "            key = tuple(cs[i-4:i])\n",
    "            if key in seen:\n",
    "                continue\n",
    "            res[key] += ps[i]\n",
    "            seen.add(key)\n",
    "    return max(res.values())"
   ]
  },
  {
   "cell_type": "code",
   "execution_count": 6,
   "metadata": {},
   "outputs": [
    {
     "data": {
      "text/plain": [
       "1619"
      ]
     },
     "execution_count": 6,
     "metadata": {},
     "output_type": "execute_result"
    }
   ],
   "source": [
    "solution_2(tst2) == 23\n",
    "solution_2(inp)  # 1619"
   ]
  },
  {
   "cell_type": "code",
   "execution_count": null,
   "metadata": {},
   "outputs": [],
   "source": []
  }
 ],
 "metadata": {
  "kernelspec": {
   "display_name": "Python 3",
   "language": "python",
   "name": "python3"
  },
  "language_info": {
   "codemirror_mode": {
    "name": "ipython",
    "version": 3
   },
   "file_extension": ".py",
   "mimetype": "text/x-python",
   "name": "python",
   "nbconvert_exporter": "python",
   "pygments_lexer": "ipython3",
   "version": "3.12.6"
  }
 },
 "nbformat": 4,
 "nbformat_minor": 2
}
