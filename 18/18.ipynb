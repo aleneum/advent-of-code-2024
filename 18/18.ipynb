{
 "cells": [
  {
   "cell_type": "markdown",
   "metadata": {},
   "source": [
    "### Day 18: RAM Run\n",
    "\n",
    "https://adventofcode.com/2024/day/18"
   ]
  },
  {
   "cell_type": "code",
   "execution_count": 1,
   "metadata": {},
   "outputs": [],
   "source": [
    "from pathlib import Path\n",
    "import sys\n",
    "\n",
    "sys.path.append(\"..\")\n",
    "\n",
    "from tools import get_input\n",
    "\n",
    "\n",
    "tst = [\n",
    "    tuple(int(i) for i in line.split(\",\"))\n",
    "    for line in (Path().parent / \"test.txt\").read_text(encoding=\"utf-8\").splitlines()\n",
    "]\n",
    "inp = [tuple(int(i) for i in line.split(\",\")) for line in get_input(18).splitlines()]"
   ]
  },
  {
   "cell_type": "code",
   "execution_count": 2,
   "metadata": {},
   "outputs": [
    {
     "data": {
      "text/plain": [
       "438"
      ]
     },
     "execution_count": 2,
     "metadata": {},
     "output_type": "execute_result"
    }
   ],
   "source": [
    "from heapq import heappush, heappop\n",
    "\n",
    "\n",
    "def solution_1(data: list[tuple[int, int]], w: int, h: int, s: int) -> int:\n",
    "    m = [[\".\"] * w for _ in range(h)]\n",
    "    for i in range(s):\n",
    "        m[data[i][1]][data[i][0]] = \"#\"\n",
    "    heap = [(0, 0, 0)]\n",
    "    while heap:\n",
    "        d, x, y = heappop(heap)\n",
    "        if x == w - 1 and y == h - 1:\n",
    "            return d\n",
    "        for dx, dy in [(1, 0), (0, 1), (-1, 0), (0, -1)]:\n",
    "            nx, ny = x + dx, y + dy\n",
    "            if 0 <= nx < w and 0 <= ny < h and m[ny][nx] == \".\":\n",
    "                m[ny][nx] = \"#\"\n",
    "                heappush(heap, (d + 1, nx, ny))\n",
    "    return -1\n",
    "\n",
    "\n",
    "assert solution_1(tst, 7, 7, 12) == 22\n",
    "solution_1(inp, 71, 71, 1024)  # 438"
   ]
  },
  {
   "cell_type": "code",
   "execution_count": 3,
   "metadata": {},
   "outputs": [
    {
     "data": {
      "text/plain": [
       "'26,22'"
      ]
     },
     "execution_count": 3,
     "metadata": {},
     "output_type": "execute_result"
    }
   ],
   "source": [
    "def path(m, w, h):\n",
    "    heap = [(0, 0, 0)]\n",
    "    while heap:\n",
    "        d, x, y = heappop(heap)\n",
    "        if x == w - 1 and y == h - 1:\n",
    "            return True\n",
    "        for dx, dy in [(1, 0), (0, 1), (-1, 0), (0, -1)]:\n",
    "            nx, ny = x + dx, y + dy\n",
    "            if 0 <= nx < w and 0 <= ny < h and m[ny][nx] == \".\":\n",
    "                m[ny][nx] = \"O\"\n",
    "                heappush(heap, (d + 1, nx, ny))\n",
    "    return False\n",
    "\n",
    "\n",
    "def solution_2(data: list[tuple[int, int]], w: int, h: int) -> tuple[int, int]:\n",
    "    ref = [[\".\"] * w for _ in range(h)]\n",
    "    copy = [line.copy() for line in ref]\n",
    "    path(copy, w, h)\n",
    "    for x, y in data:\n",
    "        ref[y][x] = \"#\"\n",
    "        if copy[y][x] == \"O\":\n",
    "            copy = [line.copy() for line in ref]\n",
    "            if not path(copy, w, h):\n",
    "                return x, y\n",
    "    return (0, 0)\n",
    "\n",
    "\n",
    "assert solution_2(tst, 7, 7) == (6, 1)\n",
    "\",\".join(str(i) for i in solution_2(inp, 71, 71))  # (26, 22)"
   ]
  },
  {
   "cell_type": "code",
   "execution_count": null,
   "metadata": {},
   "outputs": [],
   "source": []
  }
 ],
 "metadata": {
  "kernelspec": {
   "display_name": "Python 3",
   "language": "python",
   "name": "python3"
  },
  "language_info": {
   "codemirror_mode": {
    "name": "ipython",
    "version": 3
   },
   "file_extension": ".py",
   "mimetype": "text/x-python",
   "name": "python",
   "nbconvert_exporter": "python",
   "pygments_lexer": "ipython3",
   "version": "3.12.6"
  }
 },
 "nbformat": 4,
 "nbformat_minor": 2
}
