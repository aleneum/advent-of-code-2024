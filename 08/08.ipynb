{
 "cells": [
  {
   "cell_type": "markdown",
   "metadata": {},
   "source": [
    "### Day 8: Resonant Collinearity\n",
    "\n",
    "https://adventofcode.com/2024/day/8"
   ]
  },
  {
   "cell_type": "code",
   "execution_count": 1,
   "metadata": {},
   "outputs": [],
   "source": [
    "from pathlib import Path\n",
    "import sys\n",
    "sys.path.append('..')\n",
    "\n",
    "from tools import get_input\n",
    "\n",
    "test_raw: list[str] = [[c for c in line] for line in (Path().parent / \"test.txt\").read_text(encoding=\"utf-8\").splitlines()]\n",
    "input_raw: list[str] = [[c for c in line] for line in get_input(8).splitlines()]"
   ]
  },
  {
   "cell_type": "code",
   "execution_count": 2,
   "metadata": {},
   "outputs": [
    {
     "data": {
      "text/plain": [
       "273"
      ]
     },
     "execution_count": 2,
     "metadata": {},
     "output_type": "execute_result"
    }
   ],
   "source": [
    "from collections import defaultdict\n",
    "\n",
    "\n",
    "def solution_1(data: list[list[str]]) -> int:\n",
    "    m, n = len(data), len(data[0])\n",
    "    antennas = defaultdict(list)\n",
    "    antinodes = set()\n",
    "    for x, row in enumerate(data):\n",
    "        for y, cell in enumerate(row):\n",
    "            if cell != \".\":\n",
    "                antennas[cell].append((x, y))\n",
    "    for locs in antennas.values():\n",
    "        o = len(locs)\n",
    "        for i in range(o):\n",
    "            ax, ay = locs[i]\n",
    "            for j in range(i + 1, o):\n",
    "                bx, by = locs[j]\n",
    "                dx, dy = bx - ax, by - ay\n",
    "                x1, y1 = ax - dx, ay - dy\n",
    "                if 0 <= x1 < m and 0 <= y1 < n:\n",
    "                    antinodes.add((x1, y1))\n",
    "                x2, y2 = bx + dx, by + dy\n",
    "                if 0 <= x2 < m and 0 <= y2 < n:\n",
    "                    antinodes.add((x2, y2))\n",
    "    return len(antinodes)\n",
    "\n",
    "assert solution_1(test_raw) == 14\n",
    "solution_1(input_raw)  # 273\n",
    "\n"
   ]
  },
  {
   "cell_type": "code",
   "execution_count": 3,
   "metadata": {},
   "outputs": [
    {
     "data": {
      "text/plain": [
       "1017"
      ]
     },
     "execution_count": 3,
     "metadata": {},
     "output_type": "execute_result"
    }
   ],
   "source": [
    "def solution_2(data: list[list[str]]) -> int:\n",
    "    m, n = len(data), len(data[0])\n",
    "    antennas = defaultdict(list)\n",
    "    antinodes = set()\n",
    "    for x, row in enumerate(data):\n",
    "        for y, cell in enumerate(row):\n",
    "            if cell != \".\":\n",
    "                antennas[cell].append((x, y))\n",
    "    for locs in antennas.values():\n",
    "        if len(locs) < 2:\n",
    "            continue\n",
    "        for i, (ax, ay) in enumerate(locs):\n",
    "            antinodes.add((ax, ay))\n",
    "            for bx, by in locs[i + 1:]:\n",
    "                dx, dy = bx - ax, by - ay\n",
    "                nx, ny = ax - dx, ay - dy\n",
    "                while 0 <= nx < m and 0 <= ny < n:\n",
    "                    antinodes.add((nx, ny))\n",
    "                    nx, ny = nx - dx, ny - dy\n",
    "                nx, ny = ax + dx, ay + dy\n",
    "                while 0 <= nx < m and 0 <= ny < n:\n",
    "                    antinodes.add((nx, ny))\n",
    "                    nx, ny = nx + dx, ny + dy\n",
    "\n",
    "    return len(antinodes)\n",
    "\n",
    "assert solution_2(test_raw) == 34\n",
    "solution_2(input_raw)  # 1017"
   ]
  },
  {
   "cell_type": "code",
   "execution_count": null,
   "metadata": {},
   "outputs": [],
   "source": []
  }
 ],
 "metadata": {
  "kernelspec": {
   "display_name": "Python 3",
   "language": "python",
   "name": "python3"
  },
  "language_info": {
   "codemirror_mode": {
    "name": "ipython",
    "version": 3
   },
   "file_extension": ".py",
   "mimetype": "text/x-python",
   "name": "python",
   "nbconvert_exporter": "python",
   "pygments_lexer": "ipython3",
   "version": "3.12.6"
  }
 },
 "nbformat": 4,
 "nbformat_minor": 2
}
