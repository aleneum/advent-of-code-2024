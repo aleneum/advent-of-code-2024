{
 "cells": [
  {
   "cell_type": "markdown",
   "metadata": {},
   "source": [
    "### Day 15: Warehouse Woes\n",
    "\n",
    "https://adventofcode.com/2024/day/15"
   ]
  },
  {
   "cell_type": "code",
   "execution_count": 1,
   "metadata": {},
   "outputs": [],
   "source": [
    "from pathlib import Path\n",
    "import sys\n",
    "\n",
    "sys.path.append(\"..\")\n",
    "\n",
    "from tools import get_input\n",
    "\n",
    "\n",
    "def parse(text: str) -> tuple[list[list[str]], str]:\n",
    "    area_str, moves_str = text.split(\"\\n\\n\")\n",
    "    moves = \"\".join(moves_str.split(\"\\n\"))\n",
    "    area = [list(row) for row in area_str.split(\"\\n\")]\n",
    "    return area, moves\n",
    "\n",
    "\n",
    "tst1 = parse((Path().parent / \"test1.txt\").read_text(encoding=\"utf-8\"))\n",
    "tst = parse((Path().parent / \"test.txt\").read_text(encoding=\"utf-8\"))\n",
    "inp = parse(get_input(15))"
   ]
  },
  {
   "cell_type": "code",
   "execution_count": 2,
   "metadata": {},
   "outputs": [
    {
     "data": {
      "text/plain": [
       "1413675"
      ]
     },
     "execution_count": 2,
     "metadata": {},
     "output_type": "execute_result"
    }
   ],
   "source": [
    "dir = {\"^\": (-1, 0), \"v\": (1, 0), \"<\": (0, -1), \">\": (0, 1)}\n",
    "\n",
    "\n",
    "def pushable(wh, i, j, di, dj) -> bool:\n",
    "    while wh[i][j] != \"#\":\n",
    "        if wh[i][j] == \".\":\n",
    "            wh[i][j] = \"O\"\n",
    "            return True\n",
    "        i += di\n",
    "        j += dj\n",
    "    return False\n",
    "\n",
    "def get_start(wh: list[list[str]]) -> tuple[int, int]:\n",
    "    for i in range(len(wh)):\n",
    "        for j in range(len(wh[i])):\n",
    "            if wh[i][j] == \"@\":\n",
    "                return i, j\n",
    "    raise ValueError(\"No start found\")\n",
    "\n",
    "\n",
    "def solution_1(wh, moves) -> int:\n",
    "    wh = [row.copy() for row in wh]\n",
    "    pi, pj = get_start(wh)\n",
    "    for m in moves:\n",
    "        wh[pi][pj] = \".\"\n",
    "        di, dj = dir[m]\n",
    "        ni, nj = pi + di, pj + dj\n",
    "        if wh[ni][nj] == \"O\":\n",
    "            if pushable(wh, ni, nj, di, dj):\n",
    "                wh[pi][pj] = \".\"\n",
    "                pi, pj = ni, nj\n",
    "        elif wh[ni][nj] == \".\":\n",
    "            pi, pj = ni, nj\n",
    "        wh[pi][pj] = \"@\"\n",
    "    return sum(\n",
    "        (i * 100 + j)\n",
    "        for i in range(len(wh))\n",
    "        for j in range(len(wh[i]))\n",
    "        if wh[i][j] == \"O\"\n",
    "    )\n",
    "\n",
    "\n",
    "assert solution_1(*tst1) == 2028\n",
    "assert solution_1(*tst) == 10092\n",
    "solution_1(*inp)  # 1413675"
   ]
  },
  {
   "cell_type": "code",
   "execution_count": 3,
   "metadata": {},
   "outputs": [],
   "source": [
    "from IPython.display import clear_output\n",
    "from time import sleep\n",
    "\n",
    "def push2(wh, i, j, di, dj) -> None:\n",
    "    if dj != 0:\n",
    "        if wh[i][j+dj] in \"[]\":\n",
    "            push2(wh, i, j+dj, di, dj)\n",
    "        wh[i][j+dj] = wh[i][j]\n",
    "        wh[i][j] = \".\"\n",
    "    else:\n",
    "        if wh[i+di][j] == \"[\":\n",
    "            push2(wh, i+di, j, di, dj)\n",
    "        if wh[i+di][j] == \"]\":\n",
    "            push2(wh, i+di, j-1, di, dj)\n",
    "        if wh[i+di][j+1] == \"[\":\n",
    "            push2(wh, i+di, j+1, di, dj)\n",
    "        wh[i+di][j] = wh[i][j]\n",
    "        wh[i][j] = \".\"\n",
    "        wh[i+di][j+1] = wh[i][j+1]\n",
    "        wh[i][j+1] = \".\"\n",
    "        \n",
    " \n",
    "def pushable2(wh, i, j, di, dj) -> bool:\n",
    "    if dj != 0:\n",
    "        if wh[i][j+dj] in \"[]\":\n",
    "            return pushable2(wh, i, j+dj, di, dj)\n",
    "        return wh[i+di][j+dj] == \".\"\n",
    "    else:\n",
    "        if wh[i+di][j] == \"#\" or wh[i+di][j+1] == \"#\":\n",
    "            return False\n",
    "        if wh[i+di][j] == \"[\":\n",
    "            return pushable2(wh, i+di, j, di, dj)\n",
    "        if wh[i+di][j] == \"]\":\n",
    "            if not pushable2(wh, i+di, j-1, di, dj):\n",
    "                return False\n",
    "            if wh[i+di][j+1] == \"[\":\n",
    "                return pushable2(wh, i+di, j+1, di, dj)\n",
    "            return True\n",
    "        if wh[i+di][j+1] == \"[\":\n",
    "            return pushable2(wh, i+di, j+1, di, dj)\n",
    "        return wh[i+di][j+dj] == \".\" and wh[i+di][j+1] == \".\"\n",
    "\n",
    "\n",
    "def solution_2(wo, moves, copy=False, interactive=0) -> int:\n",
    "    if copy:\n",
    "        wh = [row.copy() for row in wo]\n",
    "    else:\n",
    "        wh = []\n",
    "        for i in range(len(wo)):\n",
    "            row = []\n",
    "            for j in range(len(wo[i])):\n",
    "                if wo[i][j] == \"#\":\n",
    "                    row.append(\"#\")\n",
    "                    row.append(\"#\")\n",
    "                elif wo[i][j] == \"O\":\n",
    "                    row.append(\"[\")\n",
    "                    row.append(\"]\")\n",
    "                elif wo[i][j] == \"@\":\n",
    "                    row.append(\"@\")\n",
    "                    row.append(\".\")\n",
    "                else:\n",
    "                    row.append(\".\")\n",
    "                    row.append(\".\")\n",
    "            wh.append(row)\n",
    "    pi, pj = get_start(wh)\n",
    "\n",
    "    if interactive > 0:\n",
    "        for row in wh:\n",
    "            print(\"\".join(row))\n",
    "   \n",
    "    cnt = 0\n",
    "    for m in moves:\n",
    "        if interactive and cnt > interactive:\n",
    "            print(cnt)\n",
    "            sleep(1)\n",
    "            clear_output(wait=True)\n",
    "            print(m)\n",
    "        cnt += 1\n",
    "        di, dj = dir[m]\n",
    "        ni, nj = pi + di, pj + dj\n",
    "        if wh[ni][nj] in \"[]\":\n",
    "            if pushable2(wh, ni, nj - (1 if wh[ni][nj] == \"]\" and di != 0 else 0), di, dj):\n",
    "                push2(wh, ni, nj - (1 if wh[ni][nj] == \"]\" and di != 0 else 0), di, dj)\n",
    "                wh[pi][pj] = \".\"\n",
    "                pi, pj = ni, nj\n",
    "        elif wh[ni][nj] == \".\":\n",
    "            wh[pi][pj] = \".\"\n",
    "            pi, pj = ni, nj\n",
    "        wh[pi][pj] = \"@\"\n",
    "        if interactive > 0 and cnt > interactive:\n",
    "            for row in wh:\n",
    "                print(\"\".join(row))\n",
    "    if interactive > 0:\n",
    "        for row in wh:\n",
    "            print(\"\".join(row))\n",
    "    return sum(\n",
    "        (i * 100 + j)\n",
    "        for i in range(len(wh))\n",
    "        for j in range(len(wh[i]))\n",
    "        if wh[i][j] == \"[\"\n",
    "    )"
   ]
  },
  {
   "cell_type": "code",
   "execution_count": 4,
   "metadata": {},
   "outputs": [
    {
     "name": "stdout",
     "output_type": "stream",
     "text": [
      "##############\n",
      "##......##..##\n",
      "##..........##\n",
      "##....[][]@.##\n",
      "##....[]....##\n",
      "##..........##\n",
      "##############\n",
      "##############\n",
      "##...[].##..##\n",
      "##...@.[]...##\n",
      "##....[]....##\n",
      "##..........##\n",
      "##..........##\n",
      "##############\n"
     ]
    }
   ],
   "source": [
    "tst2 = parse((Path().parent / \"test2.txt\").read_text(encoding=\"utf-8\"))\n",
    "assert solution_2(*tst2, interactive=1000) == 618"
   ]
  },
  {
   "cell_type": "code",
   "execution_count": 5,
   "metadata": {},
   "outputs": [
    {
     "name": "stdout",
     "output_type": "stream",
     "text": [
      "####################\n",
      "##....[]....[]..[]##\n",
      "##............[]..##\n",
      "##..[][]....[]..[]##\n",
      "##....[]@.....[]..##\n",
      "##[]##....[]......##\n",
      "##[]....[]....[]..##\n",
      "##..[][]..[]..[][]##\n",
      "##........[]......##\n",
      "####################\n",
      "####################\n",
      "##[].......[].[][]##\n",
      "##[]...........[].##\n",
      "##[]........[][][]##\n",
      "##[]......[]....[]##\n",
      "##..##......[]....##\n",
      "##..[]............##\n",
      "##..@......[].[][]##\n",
      "##......[][]..[]..##\n",
      "####################\n"
     ]
    }
   ],
   "source": [
    "assert solution_2(*tst, interactive=10000) == 9021"
   ]
  },
  {
   "cell_type": "code",
   "execution_count": 6,
   "metadata": {},
   "outputs": [
    {
     "data": {
      "text/plain": [
       "1399772"
      ]
     },
     "execution_count": 6,
     "metadata": {},
     "output_type": "execute_result"
    }
   ],
   "source": [
    "solution_2(*inp)  # 1399772"
   ]
  },
  {
   "cell_type": "code",
   "execution_count": null,
   "metadata": {},
   "outputs": [],
   "source": []
  }
 ],
 "metadata": {
  "kernelspec": {
   "display_name": "Python 3",
   "language": "python",
   "name": "python3"
  },
  "language_info": {
   "codemirror_mode": {
    "name": "ipython",
    "version": 3
   },
   "file_extension": ".py",
   "mimetype": "text/x-python",
   "name": "python",
   "nbconvert_exporter": "python",
   "pygments_lexer": "ipython3",
   "version": "3.12.6"
  }
 },
 "nbformat": 4,
 "nbformat_minor": 2
}
