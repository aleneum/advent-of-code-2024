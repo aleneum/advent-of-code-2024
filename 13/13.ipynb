{
 "cells": [
  {
   "cell_type": "markdown",
   "metadata": {},
   "source": [
    "### Day 13: Claw Contraption\n",
    "\n",
    "https://adventofcode.com/2024/day/13"
   ]
  },
  {
   "cell_type": "code",
   "execution_count": 1,
   "metadata": {},
   "outputs": [],
   "source": [
    "from pathlib import Path\n",
    "import sys\n",
    "import re\n",
    "\n",
    "sys.path.append(\"..\")\n",
    "\n",
    "from tools import get_input\n",
    "\n",
    "pattern = re.compile(\n",
    "    r\"Button A:\\s+X\\+(\\d+), Y\\+(\\d+)\\n+Button B:\\s+X\\+(\\d+), Y\\+(\\d+)\\nPrize: X=(\\d+), Y=(\\d+)\"\n",
    ")\n",
    "\n",
    "tst = [\n",
    "    tuple(int(i) for i in m.groups())\n",
    "    for m in pattern.finditer((Path().parent / \"test.txt\").read_text(encoding=\"utf-8\"))\n",
    "]\n",
    "inp = [tuple(int(i) for i in m.groups()) for m in pattern.finditer(get_input(13))]"
   ]
  },
  {
   "cell_type": "code",
   "execution_count": 2,
   "metadata": {},
   "outputs": [
    {
     "data": {
      "text/plain": [
       "33921"
      ]
     },
     "execution_count": 2,
     "metadata": {},
     "output_type": "execute_result"
    }
   ],
   "source": [
    "def solve_a(ax, ay, bx, by, tx, ty) -> int:\n",
    "    for b in range(100, -1, -1):\n",
    "        x = bx * b\n",
    "        if x > tx:\n",
    "            continue\n",
    "        dx = tx - x\n",
    "        if dx % ax == 0:\n",
    "            a = dx // ax\n",
    "            if a * ay + b * by == ty:\n",
    "                return a * 3 + b\n",
    "    return 0\n",
    "\n",
    "\n",
    "assert sum(solve_a(ax, ay, bx, by, tx, ty) for ax, ay, bx, by, tx, ty in tst) == 480\n",
    "sum(solve_a(ax, ay, bx, by, tx, ty) for ax, ay, bx, by, tx, ty in inp)  # 33921"
   ]
  },
  {
   "cell_type": "code",
   "execution_count": 3,
   "metadata": {},
   "outputs": [
    {
     "data": {
      "text/plain": [
       "875318608908"
      ]
     },
     "execution_count": 3,
     "metadata": {},
     "output_type": "execute_result"
    }
   ],
   "source": [
    "# Cramer's rule\n",
    "\n",
    "\n",
    "def solve_b(ax, ay, bx, by, tx, ty) -> int:\n",
    "    a = (tx * by - ty * bx) / (ax * by - ay * bx)\n",
    "    b = (ax * ty - ay * tx) / (ax * by - ay * bx)\n",
    "    if a.is_integer() and b.is_integer() and a >= 0 and b >= 0:\n",
    "        return int(a * 3 + b)\n",
    "    return 0\n",
    "\n",
    "\n",
    "assert sum(solve_b(ax, ay, bx, by, tx, ty) for ax, ay, bx, by, tx, ty in tst) == 480\n",
    "assert sum(solve_b(ax, ay, bx, by, tx, ty) for ax, ay, bx, by, tx, ty in inp) == 33921\n",
    "sum(\n",
    "    solve_b(ax, ay, bx, by, tx + 10000000000000, ty + 10000000000000)\n",
    "    for ax, ay, bx, by, tx, ty in tst\n",
    ")  # 875318608908"
   ]
  },
  {
   "cell_type": "code",
   "execution_count": 4,
   "metadata": {},
   "outputs": [],
   "source": [
    "# sympy approach\n",
    "\n",
    "from sympy import solve, symbols\n",
    "\n",
    "\n",
    "def solve_c(ax, ay, bx, by, tx, ty) -> int:\n",
    "    a, b = symbols(\"a b\", integer=True)\n",
    "    s = solve([ax * a + bx * b - tx, ay * a + by * b - ty])\n",
    "    if not s:\n",
    "        return 0\n",
    "    return s[a] * 3 + s[b]\n",
    "\n",
    "\n",
    "assert sum(solve_c(ax, ay, bx, by, tx, ty) for ax, ay, bx, by, tx, ty in tst) == 480\n",
    "assert sum(solve_c(ax, ay, bx, by, tx, ty) for ax, ay, bx, by, tx, ty in inp) == 33921\n",
    "assert (\n",
    "    sum(\n",
    "        solve_c(ax, ay, bx, by, tx + 10000000000000, ty + 10000000000000)\n",
    "        for ax, ay, bx, by, tx, ty in tst\n",
    "    )\n",
    "    == 875318608908\n",
    ")"
   ]
  },
  {
   "cell_type": "code",
   "execution_count": 5,
   "metadata": {},
   "outputs": [],
   "source": [
    "# linear equation approach\n",
    "TOLERANCE = 1e-4\n",
    "\n",
    "\n",
    "def solve_d(ax, ay, bx, by, tx, ty) -> int:\n",
    "    b = (ty - (ay * tx) / ax) / ((ax * by - ay * bx) / ax)\n",
    "    a = (tx - bx * b) / ax\n",
    "\n",
    "    if (\n",
    "        abs(round(a) - a) < TOLERANCE\n",
    "        and abs(round(b) - b) < TOLERANCE\n",
    "        and round(a) * ay + round(b) * by == ty\n",
    "    ):\n",
    "        return round(a) * 3 + round(b)\n",
    "    return 0\n",
    "\n",
    "\n",
    "sum(solve_d(ax, ay, bx, by, tx, ty) for ax, ay, bx, by, tx, ty in tst) == 480\n",
    "sum(solve_d(ax, ay, bx, by, tx, ty) for ax, ay, bx, by, tx, ty in inp) == 33921\n",
    "assert (\n",
    "    sum(\n",
    "        solve_d(ax, ay, bx, by, tx + 10000000000000, ty + 10000000000000)\n",
    "        for ax, ay, bx, by, tx, ty in tst\n",
    "    )\n",
    "    == 875318608908\n",
    ")"
   ]
  },
  {
   "cell_type": "code",
   "execution_count": null,
   "metadata": {},
   "outputs": [],
   "source": []
  }
 ],
 "metadata": {
  "kernelspec": {
   "display_name": "Python 3",
   "language": "python",
   "name": "python3"
  },
  "language_info": {
   "codemirror_mode": {
    "name": "ipython",
    "version": 3
   },
   "file_extension": ".py",
   "mimetype": "text/x-python",
   "name": "python",
   "nbconvert_exporter": "python",
   "pygments_lexer": "ipython3",
   "version": "3.12.6"
  }
 },
 "nbformat": 4,
 "nbformat_minor": 2
}
