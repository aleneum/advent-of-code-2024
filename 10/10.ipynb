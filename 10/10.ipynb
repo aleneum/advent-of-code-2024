{
 "cells": [
  {
   "cell_type": "markdown",
   "metadata": {},
   "source": [
    "### Day 10: Hoof It\n",
    "\n",
    "https://adventofcode.com/2024/day/10"
   ]
  },
  {
   "cell_type": "code",
   "execution_count": 1,
   "metadata": {},
   "outputs": [],
   "source": [
    "from pathlib import Path\n",
    "import sys\n",
    "\n",
    "sys.path.append(\"..\")\n",
    "\n",
    "from tools import get_input\n",
    "\n",
    "tst = [[int(c) if c != \".\" else -1 for c in line] for line in (Path().parent / \"test.txt\").read_text(encoding=\"utf-8\").splitlines()]\n",
    "inp = [[int(c) for c in line] for line in get_input(10).splitlines()]"
   ]
  },
  {
   "cell_type": "code",
   "execution_count": 2,
   "metadata": {},
   "outputs": [
    {
     "data": {
      "text/plain": [
       "550"
      ]
     },
     "execution_count": 2,
     "metadata": {},
     "output_type": "execute_result"
    }
   ],
   "source": [
    "from functools import cache\n",
    "\n",
    "DIR = [(0, 1), (1, 0), (0, -1), (-1, 0)]\n",
    "\n",
    "\n",
    "def solution_1(data: list[list[int]]) -> int:\n",
    "    m, n = len(data), len(data[0])\n",
    "\n",
    "    @cache\n",
    "    def dfs(i: int, j: int) -> set[tuple[int, int]]:\n",
    "        if data[i][j] == 9:\n",
    "            return {(i, j)}\n",
    "        return set().union(\n",
    "            *(\n",
    "                dfs(i + di, j + dj)\n",
    "                for di, dj in DIR\n",
    "                if 0 <= i + di < m\n",
    "                and 0 <= j + dj < n\n",
    "                and data[i + di][j + dj] == data[i][j] + 1\n",
    "            )\n",
    "        )\n",
    "\n",
    "    return sum(len(dfs(i, j)) for i in range(m) for j in range(n) if data[i][j] == 0)\n",
    "\n",
    "\n",
    "assert solution_1(tst) == 36\n",
    "solution_1(inp)  # 550"
   ]
  },
  {
   "cell_type": "code",
   "execution_count": 3,
   "metadata": {},
   "outputs": [
    {
     "data": {
      "text/plain": [
       "1255"
      ]
     },
     "execution_count": 3,
     "metadata": {},
     "output_type": "execute_result"
    }
   ],
   "source": [
    "def solution_2(data: list[list[int]]) -> int:\n",
    "    m, n = len(data), len(data[0])\n",
    "\n",
    "    @cache\n",
    "    def dfs(i: int, j: int) -> int:\n",
    "        if data[i][j] == 9:\n",
    "            return 1\n",
    "        return sum(\n",
    "            dfs(i + di, j + dj)\n",
    "            for di, dj in DIR\n",
    "            if 0 <= i + di < m\n",
    "            and 0 <= j + dj < n\n",
    "            and data[i + di][j + dj] == data[i][j] + 1\n",
    "        )\n",
    "\n",
    "    return sum(dfs(i, j) for i in range(m) for j in range(n) if data[i][j] == 0)\n",
    "\n",
    "\n",
    "assert solution_2(tst) == 81\n",
    "solution_2(inp)  # 1255"
   ]
  },
  {
   "cell_type": "code",
   "execution_count": null,
   "metadata": {},
   "outputs": [],
   "source": []
  }
 ],
 "metadata": {
  "kernelspec": {
   "display_name": "Python 3",
   "language": "python",
   "name": "python3"
  },
  "language_info": {
   "codemirror_mode": {
    "name": "ipython",
    "version": 3
   },
   "file_extension": ".py",
   "mimetype": "text/x-python",
   "name": "python",
   "nbconvert_exporter": "python",
   "pygments_lexer": "ipython3",
   "version": "3.12.6"
  }
 },
 "nbformat": 4,
 "nbformat_minor": 2
}
